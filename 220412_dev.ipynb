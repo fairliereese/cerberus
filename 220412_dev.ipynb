{
 "cells": [
  {
   "cell_type": "code",
   "execution_count": 37,
   "id": "7e4387d2-7683-4c42-93b4-5776e7107cac",
   "metadata": {},
   "outputs": [],
   "source": [
    "import pyranges as pr\n",
    "import pandas as pd\n",
    "import numpy as np\n",
    "import h5py \n",
    "import os\n",
    "\n",
    "from cerberus.cerberus import *\n",
    "from cerberus.main import *\n"
   ]
  },
  {
   "cell_type": "code",
   "execution_count": null,
   "id": "678f6b28-289e-4a43-88e4-71ea23b6643c",
   "metadata": {},
   "outputs": [],
   "source": []
  }
 ],
 "metadata": {
  "kernelspec": {
   "display_name": "Python 3",
   "language": "python",
   "name": "python3"
  },
  "language_info": {
   "codemirror_mode": {
    "name": "ipython",
    "version": 3
   },
   "file_extension": ".py",
   "mimetype": "text/x-python",
   "name": "python",
   "nbconvert_exporter": "python",
   "pygments_lexer": "ipython3",
   "version": "3.7.4"
  }
 },
 "nbformat": 4,
 "nbformat_minor": 5
}
