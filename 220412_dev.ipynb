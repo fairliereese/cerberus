{
 "cells": [
  {
   "cell_type": "code",
   "execution_count": 1,
   "id": "7e4387d2-7683-4c42-93b4-5776e7107cac",
   "metadata": {},
   "outputs": [],
   "source": [
    "import pyranges as pr\n",
    "import pandas as pd\n",
    "import numpy as np\n",
    "from cerberus.cerberus import *"
   ]
  },
  {
   "cell_type": "markdown",
   "id": "08078a33-5549-474d-9cf9-fc0f6750ac57",
   "metadata": {},
   "source": [
    "## add source tracking to agg_ics"
   ]
  },
  {
   "cell_type": "code",
   "execution_count": 115,
   "id": "7f05ead4-403d-478d-abb1-04eea1defcec",
   "metadata": {},
   "outputs": [],
   "source": [
    "def parse_agg_ics_config(fname):\n",
    "    \"\"\"\n",
    "    Parse a config file for intron chain aggregation\n",
    "    \n",
    "    Parameters:\n",
    "        fname (str): Path to ic config file\n",
    "        \n",
    "    Returns:\n",
    "        ics (list of str): List of fnames to ic files\n",
    "        sources (list of str): Source names for each ic file\n",
    "    \"\"\"\n",
    "    df = pd.read_csv(fname, header=None, sep=',')\n",
    "    df.columns = ['fname', 'source']\n",
    "    \n",
    "    ics = df.fname.tolist()\n",
    "    sources = df.source.tolist()\n",
    "    \n",
    "    return ics, sources"
   ]
  },
  {
   "cell_type": "code",
   "execution_count": 116,
   "id": "2b78151c-5b79-48cb-95ef-09a458182cdc",
   "metadata": {},
   "outputs": [],
   "source": [
    "d = '/Users/fairliereese/mortazavi_lab/data/rnawg/lr_bulk/cerberus/'\n",
    "v39_ics = '{}v39_ics.tsv'.format(d)\n",
    "v29_ics = '{}v29_ics.tsv'.format(d)\n",
    "talon_ics = '{}talon_ics.tsv'.format(d)\n",
    "\n",
    "ics = [v39_ics, v29_ics, talon_ics]\n",
    "sources = ['v39', 'v29', 'talon']\n",
    "\n",
    "df = pd.DataFrame()\n",
    "df['fname'] = ics\n",
    "df['source'] = sources\n",
    "\n",
    "fname = '/Users/fairliereese/mortazavi_lab/data/rnawg/lr_bulk/cerberus/agg_ics_config.csv'\n",
    "df.to_csv(fname, sep=',', index=False, header=None)"
   ]
  },
  {
   "cell_type": "code",
   "execution_count": 117,
   "id": "381f4027-1049-45a5-8aa1-b272c2502891",
   "metadata": {},
   "outputs": [
    {
     "data": {
      "text/plain": [
       "array(['v39', 'v29', 'talon'], dtype=object)"
      ]
     },
     "execution_count": 117,
     "metadata": {},
     "output_type": "execute_result"
    }
   ],
   "source": [
    "df.source.unique()"
   ]
  },
  {
   "cell_type": "code",
   "execution_count": 118,
   "id": "2f777502-ca32-4ea7-8f57-0c6ad1c91094",
   "metadata": {},
   "outputs": [],
   "source": [
    "ics, sources = parse_agg_ics_config(fname)"
   ]
  },
  {
   "cell_type": "code",
   "execution_count": 120,
   "id": "49e2e707-cbf6-4996-af11-43f330ae8785",
   "metadata": {},
   "outputs": [],
   "source": [
    "df = aggregate_ics(ics, sources)"
   ]
  },
  {
   "cell_type": "code",
   "execution_count": 121,
   "id": "632da570-fb1d-4100-b3f2-ab26c1479603",
   "metadata": {},
   "outputs": [
    {
     "data": {
      "text/html": [
       "<div>\n",
       "<style scoped>\n",
       "    .dataframe tbody tr th:only-of-type {\n",
       "        vertical-align: middle;\n",
       "    }\n",
       "\n",
       "    .dataframe tbody tr th {\n",
       "        vertical-align: top;\n",
       "    }\n",
       "\n",
       "    .dataframe thead th {\n",
       "        text-align: right;\n",
       "    }\n",
       "</style>\n",
       "<table border=\"1\" class=\"dataframe\">\n",
       "  <thead>\n",
       "    <tr style=\"text-align: right;\">\n",
       "      <th></th>\n",
       "      <th>Chromosome</th>\n",
       "      <th>Strand</th>\n",
       "      <th>Coordinates</th>\n",
       "      <th>Name</th>\n",
       "      <th>source</th>\n",
       "    </tr>\n",
       "  </thead>\n",
       "  <tbody>\n",
       "    <tr>\n",
       "      <th>0</th>\n",
       "      <td>chr1</td>\n",
       "      <td>+</td>\n",
       "      <td>100038316-100049908-100050004-100058665-100058...</td>\n",
       "      <td>ENSG00000156875_1</td>\n",
       "      <td>v39,v29,talon</td>\n",
       "    </tr>\n",
       "    <tr>\n",
       "      <th>1</th>\n",
       "      <td>chr1</td>\n",
       "      <td>+</td>\n",
       "      <td>100058728-100059877-100060005-100061834</td>\n",
       "      <td>ENSG00000156875_2</td>\n",
       "      <td>v39,v29</td>\n",
       "    </tr>\n",
       "    <tr>\n",
       "      <th>2</th>\n",
       "      <td>chr1</td>\n",
       "      <td>+</td>\n",
       "      <td>100099490</td>\n",
       "      <td>ENSG00000226952_1</td>\n",
       "      <td>v39,v29,talon</td>\n",
       "    </tr>\n",
       "    <tr>\n",
       "      <th>3</th>\n",
       "      <td>chr1</td>\n",
       "      <td>+</td>\n",
       "      <td>1001263-1008193-1008279-1013983</td>\n",
       "      <td>ENSG00000187608_3</td>\n",
       "      <td>v39,v29,talon</td>\n",
       "    </tr>\n",
       "    <tr>\n",
       "      <th>4</th>\n",
       "      <td>chr1</td>\n",
       "      <td>+</td>\n",
       "      <td>1001281-1008193-1008279-1013983</td>\n",
       "      <td>ENSG00000187608_2</td>\n",
       "      <td>v39,v29,talon</td>\n",
       "    </tr>\n",
       "  </tbody>\n",
       "</table>\n",
       "</div>"
      ],
      "text/plain": [
       "  Chromosome Strand                                        Coordinates  \\\n",
       "0       chr1      +  100038316-100049908-100050004-100058665-100058...   \n",
       "1       chr1      +            100058728-100059877-100060005-100061834   \n",
       "2       chr1      +                                          100099490   \n",
       "3       chr1      +                    1001263-1008193-1008279-1013983   \n",
       "4       chr1      +                    1001281-1008193-1008279-1013983   \n",
       "\n",
       "                Name         source  \n",
       "0  ENSG00000156875_1  v39,v29,talon  \n",
       "1  ENSG00000156875_2        v39,v29  \n",
       "2  ENSG00000226952_1  v39,v29,talon  \n",
       "3  ENSG00000187608_3  v39,v29,talon  \n",
       "4  ENSG00000187608_2  v39,v29,talon  "
      ]
     },
     "execution_count": 121,
     "metadata": {},
     "output_type": "execute_result"
    }
   ],
   "source": [
    "df.head()"
   ]
  },
  {
   "cell_type": "code",
   "execution_count": null,
   "id": "fb3968cf-c98d-441c-bd62-9c0423dff108",
   "metadata": {},
   "outputs": [],
   "source": []
  }
 ],
 "metadata": {
  "kernelspec": {
   "display_name": "Python 3",
   "language": "python",
   "name": "python3"
  },
  "language_info": {
   "codemirror_mode": {
    "name": "ipython",
    "version": 3
   },
   "file_extension": ".py",
   "mimetype": "text/x-python",
   "name": "python",
   "nbconvert_exporter": "python",
   "pygments_lexer": "ipython3",
   "version": "3.7.4"
  }
 },
 "nbformat": 4,
 "nbformat_minor": 5
}
