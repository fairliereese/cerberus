{
 "cells": [
  {
   "cell_type": "code",
   "execution_count": 1,
   "id": "7e4387d2-7683-4c42-93b4-5776e7107cac",
   "metadata": {},
   "outputs": [],
   "source": [
    "import pyranges as pr\n",
    "import pandas as pd\n",
    "import numpy as np\n",
    "import h5py \n",
    "import os\n",
    "\n",
    "from cerberus.cerberus import *\n",
    "from cerberus.main import *"
   ]
  },
  {
   "cell_type": "markdown",
   "id": "fda3e212-2a3a-45ea-9eb9-877d2a5bee4d",
   "metadata": {},
   "source": [
    "## write h5 ref from input beds and ics tsv"
   ]
  },
  {
   "cell_type": "code",
   "execution_count": 70,
   "id": "c97c6fff-29c7-4e14-8d92-37ff668f732e",
   "metadata": {},
   "outputs": [
    {
     "data": {
      "text/html": [
       "<div>\n",
       "<style scoped>\n",
       "    .dataframe tbody tr th:only-of-type {\n",
       "        vertical-align: middle;\n",
       "    }\n",
       "\n",
       "    .dataframe tbody tr th {\n",
       "        vertical-align: top;\n",
       "    }\n",
       "\n",
       "    .dataframe thead th {\n",
       "        text-align: right;\n",
       "    }\n",
       "</style>\n",
       "<table border=\"1\" class=\"dataframe\">\n",
       "  <thead>\n",
       "    <tr style=\"text-align: right;\">\n",
       "      <th></th>\n",
       "      <th>Chromosome</th>\n",
       "      <th>Start</th>\n",
       "      <th>End</th>\n",
       "      <th>Strand</th>\n",
       "      <th>source</th>\n",
       "      <th>Name</th>\n",
       "    </tr>\n",
       "  </thead>\n",
       "  <tbody>\n",
       "    <tr>\n",
       "      <th>0</th>\n",
       "      <td>chr1</td>\n",
       "      <td>169804296</td>\n",
       "      <td>169804436</td>\n",
       "      <td>+</td>\n",
       "      <td>v40</td>\n",
       "      <td>ENSG00000000460_2</td>\n",
       "    </tr>\n",
       "    <tr>\n",
       "      <th>1</th>\n",
       "      <td>chr1</td>\n",
       "      <td>169807786</td>\n",
       "      <td>169807887</td>\n",
       "      <td>+</td>\n",
       "      <td>v40</td>\n",
       "      <td>ENSG00000000460_4</td>\n",
       "    </tr>\n",
       "    <tr>\n",
       "      <th>2</th>\n",
       "      <td>chr1</td>\n",
       "      <td>169821668</td>\n",
       "      <td>169821769</td>\n",
       "      <td>+</td>\n",
       "      <td>v40</td>\n",
       "      <td>ENSG00000000460_5</td>\n",
       "    </tr>\n",
       "    <tr>\n",
       "      <th>3</th>\n",
       "      <td>chr1</td>\n",
       "      <td>169852986</td>\n",
       "      <td>169853135</td>\n",
       "      <td>+</td>\n",
       "      <td>v40</td>\n",
       "      <td>ENSG00000000460_3</td>\n",
       "    </tr>\n",
       "    <tr>\n",
       "      <th>4</th>\n",
       "      <td>chr1</td>\n",
       "      <td>169854029</td>\n",
       "      <td>169854130</td>\n",
       "      <td>+</td>\n",
       "      <td>v40</td>\n",
       "      <td>ENSG00000000460_1</td>\n",
       "    </tr>\n",
       "  </tbody>\n",
       "</table>\n",
       "</div>"
      ],
      "text/plain": [
       "  Chromosome      Start        End Strand source               Name\n",
       "0       chr1  169804296  169804436      +    v40  ENSG00000000460_2\n",
       "1       chr1  169807786  169807887      +    v40  ENSG00000000460_4\n",
       "2       chr1  169821668  169821769      +    v40  ENSG00000000460_5\n",
       "3       chr1  169852986  169853135      +    v40  ENSG00000000460_3\n",
       "4       chr1  169854029  169854130      +    v40  ENSG00000000460_1"
      ]
     },
     "execution_count": 70,
     "metadata": {},
     "output_type": "execute_result"
    }
   ],
   "source": [
    "ic = '/Users/fairliereese/Documents/programming/mortazavi_lab/data/rnawg/lr_bulk/cerberus/temp/talon_ic.tsv'\n",
    "tes = '/Users/fairliereese/Documents/programming/mortazavi_lab/data/rnawg/lr_bulk/cerberus/test_tes.bed'\n",
    "tss = '/Users/fairliereese/Documents/programming/mortazavi_lab/data/rnawg/lr_bulk/cerberus/test_tss.bed'\n",
    "tss_map = '/Users/fairliereese/Documents/programming/mortazavi_lab/data/rnawg/lr_bulk/cerberus/test_tes_source_map.bed'\n",
    "tes_map = '/Users/fairliereese/Documents/programming/mortazavi_lab/data/rnawg/lr_bulk/cerberus/test_tss_source_map.bed'\n",
    "\n",
    "# df = read_ic_ref(ic)\n",
    "# df.head()\n",
    "\n",
    "write_reference(tss, tes, ic, 'test.h5')\n",
    "\n",
    "# df = read_cerberus_ends(tss, mode='tss')\n",
    "# df\n",
    "\n",
    "df = read_cerberus_source_map(tss_map)\n",
    "df.head()"
   ]
  },
  {
   "cell_type": "code",
   "execution_count": 32,
   "id": "594c1015-1b51-4152-8799-84c5fe5b2848",
   "metadata": {},
   "outputs": [],
   "source": [
    "import pandas as pd\n",
    "import numpy as np\n",
    "\n",
    "df = pd.DataFrame()\n",
    "n = 5\n",
    "test_1 = [np.nan for i in range(n)]\n",
    "test_1[-1] = 'b'\n",
    "df['test_1'] = test_1\n",
    "df['test_1'] = df.test_1.astype('category')\n",
    "df['test_2'] = ['a' for i in range(n)]\n",
    "\n",
    "o = 'test.h5'\n",
    "df.to_hdf(o, 'test', mode='w', format='table')\n",
    "\n",
    "df = pd.read_hdf(o, key='test')"
   ]
  },
  {
   "cell_type": "code",
   "execution_count": 33,
   "id": "25ece305-9dda-4172-80b6-0ebaa213a899",
   "metadata": {},
   "outputs": [
    {
     "data": {
      "text/html": [
       "<div>\n",
       "<style scoped>\n",
       "    .dataframe tbody tr th:only-of-type {\n",
       "        vertical-align: middle;\n",
       "    }\n",
       "\n",
       "    .dataframe tbody tr th {\n",
       "        vertical-align: top;\n",
       "    }\n",
       "\n",
       "    .dataframe thead th {\n",
       "        text-align: right;\n",
       "    }\n",
       "</style>\n",
       "<table border=\"1\" class=\"dataframe\">\n",
       "  <thead>\n",
       "    <tr style=\"text-align: right;\">\n",
       "      <th></th>\n",
       "      <th>test_1</th>\n",
       "      <th>test_2</th>\n",
       "    </tr>\n",
       "  </thead>\n",
       "  <tbody>\n",
       "    <tr>\n",
       "      <th>0</th>\n",
       "      <td>NaN</td>\n",
       "      <td>a</td>\n",
       "    </tr>\n",
       "    <tr>\n",
       "      <th>1</th>\n",
       "      <td>NaN</td>\n",
       "      <td>a</td>\n",
       "    </tr>\n",
       "    <tr>\n",
       "      <th>2</th>\n",
       "      <td>NaN</td>\n",
       "      <td>a</td>\n",
       "    </tr>\n",
       "    <tr>\n",
       "      <th>3</th>\n",
       "      <td>NaN</td>\n",
       "      <td>a</td>\n",
       "    </tr>\n",
       "    <tr>\n",
       "      <th>4</th>\n",
       "      <td>b</td>\n",
       "      <td>a</td>\n",
       "    </tr>\n",
       "  </tbody>\n",
       "</table>\n",
       "</div>"
      ],
      "text/plain": [
       "  test_1 test_2\n",
       "0    NaN      a\n",
       "1    NaN      a\n",
       "2    NaN      a\n",
       "3    NaN      a\n",
       "4      b      a"
      ]
     },
     "execution_count": 33,
     "metadata": {},
     "output_type": "execute_result"
    }
   ],
   "source": [
    "df.head()"
   ]
  },
  {
   "cell_type": "code",
   "execution_count": null,
   "id": "fedc5e8b-fb8b-44f5-978e-0ea17925c007",
   "metadata": {},
   "outputs": [],
   "source": []
  }
 ],
 "metadata": {
  "kernelspec": {
   "display_name": "Python 3",
   "language": "python",
   "name": "python3"
  },
  "language_info": {
   "codemirror_mode": {
    "name": "ipython",
    "version": 3
   },
   "file_extension": ".py",
   "mimetype": "text/x-python",
   "name": "python",
   "nbconvert_exporter": "python",
   "pygments_lexer": "ipython3",
   "version": "3.7.4"
  }
 },
 "nbformat": 4,
 "nbformat_minor": 5
}
