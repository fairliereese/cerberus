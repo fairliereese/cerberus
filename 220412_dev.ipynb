{
 "cells": [
  {
   "cell_type": "code",
   "execution_count": 31,
   "id": "7e4387d2-7683-4c42-93b4-5776e7107cac",
   "metadata": {},
   "outputs": [],
   "source": [
    "import pyranges as pr\n",
    "import pandas as pd\n",
    "import numpy as np\n",
    "import h5py \n",
    "import os\n",
    "import cerberus\n",
    "import swan_vis as swan"
   ]
  },
  {
   "cell_type": "markdown",
   "id": "24061f69-e94d-485c-ace9-875bfee14286",
   "metadata": {},
   "source": [
    "## Add novelty of annotated transcriptome"
   ]
  },
  {
   "cell_type": "code",
   "execution_count": 66,
   "id": "c4ce2423-d220-45a9-8fb4-9ce6df92c2f0",
   "metadata": {},
   "outputs": [],
   "source": [
    "fname = '/Users/fairliereese/mortazavi_lab/data/rnawg/lr_bulk/cerberus/test.h5'\n",
    "ca = cerberus.read(fname)"
   ]
  },
  {
   "cell_type": "code",
   "execution_count": 67,
   "id": "e82ebf99-f9ae-4ffb-b3fa-05ab44440a3d",
   "metadata": {},
   "outputs": [
    {
     "data": {
      "text/plain": [
       "array(['lapa', 'v29'], dtype=object)"
      ]
     },
     "execution_count": 67,
     "metadata": {},
     "output_type": "execute_result"
    }
   ],
   "source": [
    "ca.t_map.source.unique()"
   ]
  },
  {
   "cell_type": "code",
   "execution_count": 68,
   "id": "2be700c1-84b2-40d6-8c2a-f2e4d18ac206",
   "metadata": {},
   "outputs": [],
   "source": [
    "annot_source = 'lapa'\n",
    "ref_sources = ['v29', 'v40']"
   ]
  },
  {
   "cell_type": "code",
   "execution_count": 69,
   "id": "22f50198-dd04-4c8b-ba6a-883c569289a9",
   "metadata": {},
   "outputs": [],
   "source": [
    "def get_feats():\n",
    "    return ['tss', 'ic', 'tes']"
   ]
  },
  {
   "cell_type": "code",
   "execution_count": 70,
   "id": "6d5064b8-7108-4b5b-b426-2b4527f485d5",
   "metadata": {},
   "outputs": [],
   "source": [
    "for feat in get_feats():\n",
    "    \n",
    "    # pick the right df to look at\n",
    "    if feat == 'tss':\n",
    "        df = ca.tss\n",
    "    elif feat == 'ic':\n",
    "        df = ca.ic\n",
    "    elif feat == 'tes':\n",
    "        df = ca.tes\n",
    "    \n",
    "    # restrict to our reference sources; take the union\n",
    "    inds = []\n",
    "    for source in ref_sources:\n",
    "        inds += df.loc[df.source.str.contains(source)].index.tolist()\n",
    "    inds = list(set(inds))\n",
    "    ref_ids = df.loc[inds].Name.tolist()\n",
    "    \n",
    "    # add a novelty column to the transcript map\n",
    "    nov_col = '{}_novelty'.format(feat)\n",
    "    id_col = '{}_id'.format(feat)\n",
    "    ca.t_map[nov_col] = 'Novel'\n",
    "    ca.t_map.loc[ca.t_map[id_col].isin(ref_ids), nov_col] = 'Known'"
   ]
  },
  {
   "cell_type": "code",
   "execution_count": 71,
   "id": "19d4c3e2-0221-4ef8-8a5c-cba1f4079677",
   "metadata": {},
   "outputs": [
    {
     "data": {
      "text/html": [
       "<div>\n",
       "<style scoped>\n",
       "    .dataframe tbody tr th:only-of-type {\n",
       "        vertical-align: middle;\n",
       "    }\n",
       "\n",
       "    .dataframe tbody tr th {\n",
       "        vertical-align: top;\n",
       "    }\n",
       "\n",
       "    .dataframe thead th {\n",
       "        text-align: right;\n",
       "    }\n",
       "</style>\n",
       "<table border=\"1\" class=\"dataframe\">\n",
       "  <thead>\n",
       "    <tr style=\"text-align: right;\">\n",
       "      <th></th>\n",
       "      <th>original_transcript_id</th>\n",
       "      <th>ic</th>\n",
       "      <th>ic_id</th>\n",
       "      <th>tss_id</th>\n",
       "      <th>tss</th>\n",
       "      <th>tes_id</th>\n",
       "      <th>tes</th>\n",
       "      <th>gene_id</th>\n",
       "      <th>gene_name</th>\n",
       "      <th>original_transcript_name</th>\n",
       "      <th>transcript_triplet</th>\n",
       "      <th>transcript_id</th>\n",
       "      <th>transcript_name</th>\n",
       "      <th>tss_first_sd_issue</th>\n",
       "      <th>tes_last_sa_issue</th>\n",
       "      <th>source</th>\n",
       "      <th>tss_novelty</th>\n",
       "      <th>ic_novelty</th>\n",
       "      <th>tes_novelty</th>\n",
       "    </tr>\n",
       "  </thead>\n",
       "  <tbody>\n",
       "    <tr>\n",
       "      <th>319996</th>\n",
       "      <td>ENCODEHT000604802#0</td>\n",
       "      <td>1.0</td>\n",
       "      <td>NaN</td>\n",
       "      <td>ENSG00000000003_1</td>\n",
       "      <td>1.0</td>\n",
       "      <td>ENSG00000000003_5</td>\n",
       "      <td>5.0</td>\n",
       "      <td>ENSG00000000003</td>\n",
       "      <td>TSPAN6</td>\n",
       "      <td>ENCODEHT000604802</td>\n",
       "      <td>[1,1,5]</td>\n",
       "      <td>ENSG00000000003[1,1,5]</td>\n",
       "      <td>TSPAN6[1,1,5]</td>\n",
       "      <td>False</td>\n",
       "      <td>False</td>\n",
       "      <td>lapa</td>\n",
       "      <td>Known</td>\n",
       "      <td>Novel</td>\n",
       "      <td>Known</td>\n",
       "    </tr>\n",
       "    <tr>\n",
       "      <th>320003</th>\n",
       "      <td>ENCODEHT000605067#0</td>\n",
       "      <td>1.0</td>\n",
       "      <td>NaN</td>\n",
       "      <td>ENSG00000000003_1</td>\n",
       "      <td>1.0</td>\n",
       "      <td>ENSG00000000003_5</td>\n",
       "      <td>5.0</td>\n",
       "      <td>ENSG00000000003</td>\n",
       "      <td>TSPAN6</td>\n",
       "      <td>ENCODEHT000605067</td>\n",
       "      <td>[1,1,5]</td>\n",
       "      <td>ENSG00000000003[1,1,5]</td>\n",
       "      <td>TSPAN6[1,1,5]</td>\n",
       "      <td>False</td>\n",
       "      <td>False</td>\n",
       "      <td>lapa</td>\n",
       "      <td>Known</td>\n",
       "      <td>Novel</td>\n",
       "      <td>Known</td>\n",
       "    </tr>\n",
       "    <tr>\n",
       "      <th>321921</th>\n",
       "      <td>ENST00000373020.8</td>\n",
       "      <td>1.0</td>\n",
       "      <td>ENSG00000000003_1</td>\n",
       "      <td>ENSG00000000003_1</td>\n",
       "      <td>1.0</td>\n",
       "      <td>ENSG00000000003_5</td>\n",
       "      <td>5.0</td>\n",
       "      <td>ENSG00000000003</td>\n",
       "      <td>TSPAN6</td>\n",
       "      <td>TSPAN6-201</td>\n",
       "      <td>[1,1,5]</td>\n",
       "      <td>ENSG00000000003[1,1,5]</td>\n",
       "      <td>TSPAN6[1,1,5]</td>\n",
       "      <td>False</td>\n",
       "      <td>False</td>\n",
       "      <td>lapa</td>\n",
       "      <td>Known</td>\n",
       "      <td>Known</td>\n",
       "      <td>Known</td>\n",
       "    </tr>\n",
       "    <tr>\n",
       "      <th>321925</th>\n",
       "      <td>ENST00000373020.8#3</td>\n",
       "      <td>1.0</td>\n",
       "      <td>ENSG00000000003_1</td>\n",
       "      <td>ENSG00000000003_1</td>\n",
       "      <td>1.0</td>\n",
       "      <td>ENSG00000000003_5</td>\n",
       "      <td>5.0</td>\n",
       "      <td>ENSG00000000003</td>\n",
       "      <td>TSPAN6</td>\n",
       "      <td>TSPAN6-201</td>\n",
       "      <td>[1,1,5]</td>\n",
       "      <td>ENSG00000000003[1,1,5]</td>\n",
       "      <td>TSPAN6[1,1,5]</td>\n",
       "      <td>False</td>\n",
       "      <td>False</td>\n",
       "      <td>lapa</td>\n",
       "      <td>Known</td>\n",
       "      <td>Known</td>\n",
       "      <td>Known</td>\n",
       "    </tr>\n",
       "    <tr>\n",
       "      <th>203329</th>\n",
       "      <td>ENST00000373020.8</td>\n",
       "      <td>1.0</td>\n",
       "      <td>ENSG00000000003_1</td>\n",
       "      <td>ENSG00000000003_1</td>\n",
       "      <td>1.0</td>\n",
       "      <td>ENSG00000000003_5</td>\n",
       "      <td>5.0</td>\n",
       "      <td>ENSG00000000003</td>\n",
       "      <td>TSPAN6</td>\n",
       "      <td>TSPAN6-201</td>\n",
       "      <td>[1,1,5]</td>\n",
       "      <td>ENSG00000000003[1,1,5]</td>\n",
       "      <td>TSPAN6[1,1,5]</td>\n",
       "      <td>False</td>\n",
       "      <td>False</td>\n",
       "      <td>v29</td>\n",
       "      <td>Known</td>\n",
       "      <td>Known</td>\n",
       "      <td>Known</td>\n",
       "    </tr>\n",
       "  </tbody>\n",
       "</table>\n",
       "</div>"
      ],
      "text/plain": [
       "       original_transcript_id   ic              ic_id             tss_id  tss  \\\n",
       "319996    ENCODEHT000604802#0  1.0                NaN  ENSG00000000003_1  1.0   \n",
       "320003    ENCODEHT000605067#0  1.0                NaN  ENSG00000000003_1  1.0   \n",
       "321921      ENST00000373020.8  1.0  ENSG00000000003_1  ENSG00000000003_1  1.0   \n",
       "321925    ENST00000373020.8#3  1.0  ENSG00000000003_1  ENSG00000000003_1  1.0   \n",
       "203329      ENST00000373020.8  1.0  ENSG00000000003_1  ENSG00000000003_1  1.0   \n",
       "\n",
       "                   tes_id  tes          gene_id gene_name  \\\n",
       "319996  ENSG00000000003_5  5.0  ENSG00000000003    TSPAN6   \n",
       "320003  ENSG00000000003_5  5.0  ENSG00000000003    TSPAN6   \n",
       "321921  ENSG00000000003_5  5.0  ENSG00000000003    TSPAN6   \n",
       "321925  ENSG00000000003_5  5.0  ENSG00000000003    TSPAN6   \n",
       "203329  ENSG00000000003_5  5.0  ENSG00000000003    TSPAN6   \n",
       "\n",
       "       original_transcript_name transcript_triplet           transcript_id  \\\n",
       "319996        ENCODEHT000604802            [1,1,5]  ENSG00000000003[1,1,5]   \n",
       "320003        ENCODEHT000605067            [1,1,5]  ENSG00000000003[1,1,5]   \n",
       "321921               TSPAN6-201            [1,1,5]  ENSG00000000003[1,1,5]   \n",
       "321925               TSPAN6-201            [1,1,5]  ENSG00000000003[1,1,5]   \n",
       "203329               TSPAN6-201            [1,1,5]  ENSG00000000003[1,1,5]   \n",
       "\n",
       "       transcript_name tss_first_sd_issue tes_last_sa_issue source  \\\n",
       "319996   TSPAN6[1,1,5]              False             False   lapa   \n",
       "320003   TSPAN6[1,1,5]              False             False   lapa   \n",
       "321921   TSPAN6[1,1,5]              False             False   lapa   \n",
       "321925   TSPAN6[1,1,5]              False             False   lapa   \n",
       "203329   TSPAN6[1,1,5]              False             False    v29   \n",
       "\n",
       "       tss_novelty ic_novelty tes_novelty  \n",
       "319996       Known      Novel       Known  \n",
       "320003       Known      Novel       Known  \n",
       "321921       Known      Known       Known  \n",
       "321925       Known      Known       Known  \n",
       "203329       Known      Known       Known  "
      ]
     },
     "execution_count": 71,
     "metadata": {},
     "output_type": "execute_result"
    }
   ],
   "source": [
    "ca.t_map.loc[ca.t_map.transcript_id=='ENSG00000000003[1,1,5]']"
   ]
  },
  {
   "cell_type": "code",
   "execution_count": 33,
   "id": "dfaf200d-bbe4-4128-a33f-89936104e710",
   "metadata": {},
   "outputs": [
    {
     "name": "stdout",
     "output_type": "stream",
     "text": [
      "Read in graph from /Users/fairliereese/Documents/programming/mortazavi_lab/data/rnawg/lr_bulk/cerberus/swan.p\n"
     ]
    }
   ],
   "source": [
    "sg = swan.read('/Users/fairliereese/Documents/programming/mortazavi_lab/data/rnawg/lr_bulk/cerberus/swan.p')"
   ]
  },
  {
   "cell_type": "code",
   "execution_count": 72,
   "id": "0a791a66-049b-4ead-838b-92249c974e74",
   "metadata": {},
   "outputs": [
    {
     "data": {
      "text/html": [
       "<div>\n",
       "<style scoped>\n",
       "    .dataframe tbody tr th:only-of-type {\n",
       "        vertical-align: middle;\n",
       "    }\n",
       "\n",
       "    .dataframe tbody tr th {\n",
       "        vertical-align: top;\n",
       "    }\n",
       "\n",
       "    .dataframe thead th {\n",
       "        text-align: right;\n",
       "    }\n",
       "</style>\n",
       "<table border=\"1\" class=\"dataframe\">\n",
       "  <thead>\n",
       "    <tr style=\"text-align: right;\">\n",
       "      <th></th>\n",
       "      <th>Chromosome</th>\n",
       "      <th>Strand</th>\n",
       "      <th>Coordinates</th>\n",
       "      <th>Name</th>\n",
       "      <th>source</th>\n",
       "      <th>gene_id</th>\n",
       "      <th>ic</th>\n",
       "    </tr>\n",
       "  </thead>\n",
       "  <tbody>\n",
       "    <tr>\n",
       "      <th>0</th>\n",
       "      <td>chr1</td>\n",
       "      <td>+</td>\n",
       "      <td></td>\n",
       "      <td>ENSG00000004487_18</td>\n",
       "      <td>v40,v29,lapa</td>\n",
       "      <td>ENSG00000004487</td>\n",
       "      <td>18</td>\n",
       "    </tr>\n",
       "    <tr>\n",
       "      <th>1</th>\n",
       "      <td>chr1</td>\n",
       "      <td>+</td>\n",
       "      <td></td>\n",
       "      <td>ENSG00000033122_5</td>\n",
       "      <td>v40,v29,lapa</td>\n",
       "      <td>ENSG00000033122</td>\n",
       "      <td>5</td>\n",
       "    </tr>\n",
       "    <tr>\n",
       "      <th>2</th>\n",
       "      <td>chr1</td>\n",
       "      <td>+</td>\n",
       "      <td></td>\n",
       "      <td>ENSG00000049246_6</td>\n",
       "      <td>v40,v29,lapa</td>\n",
       "      <td>ENSG00000049246</td>\n",
       "      <td>6</td>\n",
       "    </tr>\n",
       "    <tr>\n",
       "      <th>3</th>\n",
       "      <td>chr1</td>\n",
       "      <td>+</td>\n",
       "      <td></td>\n",
       "      <td>ENSG00000077157_8</td>\n",
       "      <td>v40,v29,lapa</td>\n",
       "      <td>ENSG00000077157</td>\n",
       "      <td>8</td>\n",
       "    </tr>\n",
       "    <tr>\n",
       "      <th>4</th>\n",
       "      <td>chr1</td>\n",
       "      <td>+</td>\n",
       "      <td></td>\n",
       "      <td>ENSG00000099260_3</td>\n",
       "      <td>v40,v29,lapa</td>\n",
       "      <td>ENSG00000099260</td>\n",
       "      <td>3</td>\n",
       "    </tr>\n",
       "  </tbody>\n",
       "</table>\n",
       "</div>"
      ],
      "text/plain": [
       "  Chromosome Strand Coordinates                Name        source  \\\n",
       "0       chr1      +              ENSG00000004487_18  v40,v29,lapa   \n",
       "1       chr1      +               ENSG00000033122_5  v40,v29,lapa   \n",
       "2       chr1      +               ENSG00000049246_6  v40,v29,lapa   \n",
       "3       chr1      +               ENSG00000077157_8  v40,v29,lapa   \n",
       "4       chr1      +               ENSG00000099260_3  v40,v29,lapa   \n",
       "\n",
       "           gene_id  ic  \n",
       "0  ENSG00000004487  18  \n",
       "1  ENSG00000033122   5  \n",
       "2  ENSG00000049246   6  \n",
       "3  ENSG00000077157   8  \n",
       "4  ENSG00000099260   3  "
      ]
     },
     "execution_count": 72,
     "metadata": {},
     "output_type": "execute_result"
    }
   ],
   "source": [
    "ca.ic.head()"
   ]
  },
  {
   "cell_type": "code",
   "execution_count": 38,
   "id": "d31f2791-7ae8-4533-adaa-a970b6b57338",
   "metadata": {},
   "outputs": [],
   "source": [
    "# reconcile novelty \n",
    "temp = ca.t_map.copy(deep=True)\n",
    "# temp = temp.loc[temp.source == annot_source]\n",
    "temp = temp[['transcript_id']+['{}_novelty'.format(feat) for feat in get_feats()]]\n",
    "temp.rename({'transcript_id': 'tid'}, axis=1, inplace=True)\n",
    "temp.drop_duplicates(inplace=True)\n",
    "sg.t_df = sg.t_df.merge(temp, how='left', left_index=True, right_on='tid')"
   ]
  },
  {
   "cell_type": "code",
   "execution_count": 56,
   "id": "cf1a1e7e-09dd-4bc7-a3f4-6c715ef708d5",
   "metadata": {},
   "outputs": [
    {
     "data": {
      "text/html": [
       "<div>\n",
       "<style scoped>\n",
       "    .dataframe tbody tr th:only-of-type {\n",
       "        vertical-align: middle;\n",
       "    }\n",
       "\n",
       "    .dataframe tbody tr th {\n",
       "        vertical-align: top;\n",
       "    }\n",
       "\n",
       "    .dataframe thead th {\n",
       "        text-align: right;\n",
       "    }\n",
       "</style>\n",
       "<table border=\"1\" class=\"dataframe\">\n",
       "  <thead>\n",
       "    <tr style=\"text-align: right;\">\n",
       "      <th></th>\n",
       "      <th>ic_novelty</th>\n",
       "      <th>novelty</th>\n",
       "      <th>tid</th>\n",
       "    </tr>\n",
       "  </thead>\n",
       "  <tbody>\n",
       "    <tr>\n",
       "      <th>0</th>\n",
       "      <td>Known</td>\n",
       "      <td>ISM</td>\n",
       "      <td>829</td>\n",
       "    </tr>\n",
       "    <tr>\n",
       "      <th>1</th>\n",
       "      <td>Known</td>\n",
       "      <td>Known</td>\n",
       "      <td>241123</td>\n",
       "    </tr>\n",
       "    <tr>\n",
       "      <th>2</th>\n",
       "      <td>Known</td>\n",
       "      <td>NIC</td>\n",
       "      <td>2723</td>\n",
       "    </tr>\n",
       "    <tr>\n",
       "      <th>3</th>\n",
       "      <td>Known</td>\n",
       "      <td>NNC</td>\n",
       "      <td>650</td>\n",
       "    </tr>\n",
       "    <tr>\n",
       "      <th>4</th>\n",
       "      <td>Novel</td>\n",
       "      <td>ISM</td>\n",
       "      <td>2865</td>\n",
       "    </tr>\n",
       "    <tr>\n",
       "      <th>5</th>\n",
       "      <td>Novel</td>\n",
       "      <td>Known</td>\n",
       "      <td>3917</td>\n",
       "    </tr>\n",
       "    <tr>\n",
       "      <th>6</th>\n",
       "      <td>Novel</td>\n",
       "      <td>NIC</td>\n",
       "      <td>29015</td>\n",
       "    </tr>\n",
       "    <tr>\n",
       "      <th>7</th>\n",
       "      <td>Novel</td>\n",
       "      <td>NNC</td>\n",
       "      <td>8891</td>\n",
       "    </tr>\n",
       "    <tr>\n",
       "      <th>8</th>\n",
       "      <td>Novel</td>\n",
       "      <td>Undefined</td>\n",
       "      <td>817</td>\n",
       "    </tr>\n",
       "    <tr>\n",
       "      <th>9</th>\n",
       "      <td>NaN</td>\n",
       "      <td>ISM</td>\n",
       "      <td>23994</td>\n",
       "    </tr>\n",
       "    <tr>\n",
       "      <th>10</th>\n",
       "      <td>NaN</td>\n",
       "      <td>Known</td>\n",
       "      <td>21145</td>\n",
       "    </tr>\n",
       "    <tr>\n",
       "      <th>11</th>\n",
       "      <td>NaN</td>\n",
       "      <td>NIC</td>\n",
       "      <td>16823</td>\n",
       "    </tr>\n",
       "    <tr>\n",
       "      <th>12</th>\n",
       "      <td>NaN</td>\n",
       "      <td>NNC</td>\n",
       "      <td>5003</td>\n",
       "    </tr>\n",
       "    <tr>\n",
       "      <th>13</th>\n",
       "      <td>NaN</td>\n",
       "      <td>Undefined</td>\n",
       "      <td>465</td>\n",
       "    </tr>\n",
       "  </tbody>\n",
       "</table>\n",
       "</div>"
      ],
      "text/plain": [
       "   ic_novelty    novelty     tid\n",
       "0       Known        ISM     829\n",
       "1       Known      Known  241123\n",
       "2       Known        NIC    2723\n",
       "3       Known        NNC     650\n",
       "4       Novel        ISM    2865\n",
       "5       Novel      Known    3917\n",
       "6       Novel        NIC   29015\n",
       "7       Novel        NNC    8891\n",
       "8       Novel  Undefined     817\n",
       "9         NaN        ISM   23994\n",
       "10        NaN      Known   21145\n",
       "11        NaN        NIC   16823\n",
       "12        NaN        NNC    5003\n",
       "13        NaN  Undefined     465"
      ]
     },
     "execution_count": 56,
     "metadata": {},
     "output_type": "execute_result"
    }
   ],
   "source": [
    "temp = sg.t_df[['tid', 'ic_novelty', 'novelty']].copy(deep=True)\n",
    "temp.groupby(['ic_novelty', 'novelty'], dropna=False).count().reset_index()"
   ]
  },
  {
   "cell_type": "code",
   "execution_count": 65,
   "id": "1f027b2b-6504-492e-be6a-8dad1b479657",
   "metadata": {},
   "outputs": [
    {
     "data": {
      "text/html": [
       "<div>\n",
       "<style scoped>\n",
       "    .dataframe tbody tr th:only-of-type {\n",
       "        vertical-align: middle;\n",
       "    }\n",
       "\n",
       "    .dataframe tbody tr th {\n",
       "        vertical-align: top;\n",
       "    }\n",
       "\n",
       "    .dataframe thead th {\n",
       "        text-align: right;\n",
       "    }\n",
       "</style>\n",
       "<table border=\"1\" class=\"dataframe\">\n",
       "  <thead>\n",
       "    <tr style=\"text-align: right;\">\n",
       "      <th></th>\n",
       "      <th>original_transcript_id</th>\n",
       "      <th>ic</th>\n",
       "      <th>ic_id</th>\n",
       "      <th>tss_id</th>\n",
       "      <th>tss</th>\n",
       "      <th>tes_id</th>\n",
       "      <th>tes</th>\n",
       "      <th>gene_id</th>\n",
       "      <th>gene_name</th>\n",
       "      <th>original_transcript_name</th>\n",
       "      <th>transcript_triplet</th>\n",
       "      <th>transcript_id</th>\n",
       "      <th>transcript_name</th>\n",
       "      <th>tss_first_sd_issue</th>\n",
       "      <th>tes_last_sa_issue</th>\n",
       "      <th>source</th>\n",
       "      <th>ic_novelty</th>\n",
       "      <th>tss_novelty</th>\n",
       "      <th>tes_novelty</th>\n",
       "    </tr>\n",
       "  </thead>\n",
       "  <tbody>\n",
       "    <tr>\n",
       "      <th>319996</th>\n",
       "      <td>ENCODEHT000604802#0</td>\n",
       "      <td>1.0</td>\n",
       "      <td>NaN</td>\n",
       "      <td>ENSG00000000003_1</td>\n",
       "      <td>1.0</td>\n",
       "      <td>ENSG00000000003_5</td>\n",
       "      <td>5.0</td>\n",
       "      <td>ENSG00000000003</td>\n",
       "      <td>TSPAN6</td>\n",
       "      <td>ENCODEHT000604802</td>\n",
       "      <td>[1,1,5]</td>\n",
       "      <td>ENSG00000000003[1,1,5]</td>\n",
       "      <td>TSPAN6[1,1,5]</td>\n",
       "      <td>False</td>\n",
       "      <td>False</td>\n",
       "      <td>lapa</td>\n",
       "      <td>Novel</td>\n",
       "      <td>Known</td>\n",
       "      <td>Known</td>\n",
       "    </tr>\n",
       "    <tr>\n",
       "      <th>320003</th>\n",
       "      <td>ENCODEHT000605067#0</td>\n",
       "      <td>1.0</td>\n",
       "      <td>NaN</td>\n",
       "      <td>ENSG00000000003_1</td>\n",
       "      <td>1.0</td>\n",
       "      <td>ENSG00000000003_5</td>\n",
       "      <td>5.0</td>\n",
       "      <td>ENSG00000000003</td>\n",
       "      <td>TSPAN6</td>\n",
       "      <td>ENCODEHT000605067</td>\n",
       "      <td>[1,1,5]</td>\n",
       "      <td>ENSG00000000003[1,1,5]</td>\n",
       "      <td>TSPAN6[1,1,5]</td>\n",
       "      <td>False</td>\n",
       "      <td>False</td>\n",
       "      <td>lapa</td>\n",
       "      <td>Novel</td>\n",
       "      <td>Known</td>\n",
       "      <td>Known</td>\n",
       "    </tr>\n",
       "    <tr>\n",
       "      <th>321921</th>\n",
       "      <td>ENST00000373020.8</td>\n",
       "      <td>1.0</td>\n",
       "      <td>ENSG00000000003_1</td>\n",
       "      <td>ENSG00000000003_1</td>\n",
       "      <td>1.0</td>\n",
       "      <td>ENSG00000000003_5</td>\n",
       "      <td>5.0</td>\n",
       "      <td>ENSG00000000003</td>\n",
       "      <td>TSPAN6</td>\n",
       "      <td>TSPAN6-201</td>\n",
       "      <td>[1,1,5]</td>\n",
       "      <td>ENSG00000000003[1,1,5]</td>\n",
       "      <td>TSPAN6[1,1,5]</td>\n",
       "      <td>False</td>\n",
       "      <td>False</td>\n",
       "      <td>lapa</td>\n",
       "      <td>Known</td>\n",
       "      <td>Known</td>\n",
       "      <td>Known</td>\n",
       "    </tr>\n",
       "    <tr>\n",
       "      <th>321925</th>\n",
       "      <td>ENST00000373020.8#3</td>\n",
       "      <td>1.0</td>\n",
       "      <td>ENSG00000000003_1</td>\n",
       "      <td>ENSG00000000003_1</td>\n",
       "      <td>1.0</td>\n",
       "      <td>ENSG00000000003_5</td>\n",
       "      <td>5.0</td>\n",
       "      <td>ENSG00000000003</td>\n",
       "      <td>TSPAN6</td>\n",
       "      <td>TSPAN6-201</td>\n",
       "      <td>[1,1,5]</td>\n",
       "      <td>ENSG00000000003[1,1,5]</td>\n",
       "      <td>TSPAN6[1,1,5]</td>\n",
       "      <td>False</td>\n",
       "      <td>False</td>\n",
       "      <td>lapa</td>\n",
       "      <td>Known</td>\n",
       "      <td>Known</td>\n",
       "      <td>Known</td>\n",
       "    </tr>\n",
       "    <tr>\n",
       "      <th>203329</th>\n",
       "      <td>ENST00000373020.8</td>\n",
       "      <td>1.0</td>\n",
       "      <td>ENSG00000000003_1</td>\n",
       "      <td>ENSG00000000003_1</td>\n",
       "      <td>1.0</td>\n",
       "      <td>ENSG00000000003_5</td>\n",
       "      <td>5.0</td>\n",
       "      <td>ENSG00000000003</td>\n",
       "      <td>TSPAN6</td>\n",
       "      <td>TSPAN6-201</td>\n",
       "      <td>[1,1,5]</td>\n",
       "      <td>ENSG00000000003[1,1,5]</td>\n",
       "      <td>TSPAN6[1,1,5]</td>\n",
       "      <td>False</td>\n",
       "      <td>False</td>\n",
       "      <td>v29</td>\n",
       "      <td>Known</td>\n",
       "      <td>Known</td>\n",
       "      <td>Known</td>\n",
       "    </tr>\n",
       "  </tbody>\n",
       "</table>\n",
       "</div>"
      ],
      "text/plain": [
       "       original_transcript_id   ic              ic_id             tss_id  tss  \\\n",
       "319996    ENCODEHT000604802#0  1.0                NaN  ENSG00000000003_1  1.0   \n",
       "320003    ENCODEHT000605067#0  1.0                NaN  ENSG00000000003_1  1.0   \n",
       "321921      ENST00000373020.8  1.0  ENSG00000000003_1  ENSG00000000003_1  1.0   \n",
       "321925    ENST00000373020.8#3  1.0  ENSG00000000003_1  ENSG00000000003_1  1.0   \n",
       "203329      ENST00000373020.8  1.0  ENSG00000000003_1  ENSG00000000003_1  1.0   \n",
       "\n",
       "                   tes_id  tes          gene_id gene_name  \\\n",
       "319996  ENSG00000000003_5  5.0  ENSG00000000003    TSPAN6   \n",
       "320003  ENSG00000000003_5  5.0  ENSG00000000003    TSPAN6   \n",
       "321921  ENSG00000000003_5  5.0  ENSG00000000003    TSPAN6   \n",
       "321925  ENSG00000000003_5  5.0  ENSG00000000003    TSPAN6   \n",
       "203329  ENSG00000000003_5  5.0  ENSG00000000003    TSPAN6   \n",
       "\n",
       "       original_transcript_name transcript_triplet           transcript_id  \\\n",
       "319996        ENCODEHT000604802            [1,1,5]  ENSG00000000003[1,1,5]   \n",
       "320003        ENCODEHT000605067            [1,1,5]  ENSG00000000003[1,1,5]   \n",
       "321921               TSPAN6-201            [1,1,5]  ENSG00000000003[1,1,5]   \n",
       "321925               TSPAN6-201            [1,1,5]  ENSG00000000003[1,1,5]   \n",
       "203329               TSPAN6-201            [1,1,5]  ENSG00000000003[1,1,5]   \n",
       "\n",
       "       transcript_name tss_first_sd_issue tes_last_sa_issue source ic_novelty  \\\n",
       "319996   TSPAN6[1,1,5]              False             False   lapa      Novel   \n",
       "320003   TSPAN6[1,1,5]              False             False   lapa      Novel   \n",
       "321921   TSPAN6[1,1,5]              False             False   lapa      Known   \n",
       "321925   TSPAN6[1,1,5]              False             False   lapa      Known   \n",
       "203329   TSPAN6[1,1,5]              False             False    v29      Known   \n",
       "\n",
       "       tss_novelty tes_novelty  \n",
       "319996       Known       Known  \n",
       "320003       Known       Known  \n",
       "321921       Known       Known  \n",
       "321925       Known       Known  \n",
       "203329       Known       Known  "
      ]
     },
     "execution_count": 65,
     "metadata": {},
     "output_type": "execute_result"
    }
   ],
   "source": [
    "ca.t_map.loc[ca.t_map.transcript_id == 'ENSG00000000003[1,1,5]']"
   ]
  },
  {
   "cell_type": "code",
   "execution_count": 62,
   "id": "e34af479-6c6a-4369-8119-6260aaf63521",
   "metadata": {},
   "outputs": [
    {
     "data": {
      "text/html": [
       "<div>\n",
       "<style scoped>\n",
       "    .dataframe tbody tr th:only-of-type {\n",
       "        vertical-align: middle;\n",
       "    }\n",
       "\n",
       "    .dataframe tbody tr th {\n",
       "        vertical-align: top;\n",
       "    }\n",
       "\n",
       "    .dataframe thead th {\n",
       "        text-align: right;\n",
       "    }\n",
       "</style>\n",
       "<table border=\"1\" class=\"dataframe\">\n",
       "  <thead>\n",
       "    <tr style=\"text-align: right;\">\n",
       "      <th></th>\n",
       "      <th>tid</th>\n",
       "      <th>ic_novelty</th>\n",
       "      <th>novelty</th>\n",
       "    </tr>\n",
       "  </thead>\n",
       "  <tbody>\n",
       "    <tr>\n",
       "      <th>319996.0</th>\n",
       "      <td>ENSG00000000003[1,1,5]</td>\n",
       "      <td>Novel</td>\n",
       "      <td>Known</td>\n",
       "    </tr>\n",
       "    <tr>\n",
       "      <th>319997.0</th>\n",
       "      <td>ENSG00000000003[1,1,7]</td>\n",
       "      <td>Novel</td>\n",
       "      <td>Known</td>\n",
       "    </tr>\n",
       "    <tr>\n",
       "      <th>319998.0</th>\n",
       "      <td>ENSG00000000003[1,1,8]</td>\n",
       "      <td>Novel</td>\n",
       "      <td>Known</td>\n",
       "    </tr>\n",
       "    <tr>\n",
       "      <th>22531.0</th>\n",
       "      <td>ENSG00000000938[1,1,2]</td>\n",
       "      <td>Novel</td>\n",
       "      <td>Known</td>\n",
       "    </tr>\n",
       "    <tr>\n",
       "      <th>259682.0</th>\n",
       "      <td>ENSG00000001167[1,1,1]</td>\n",
       "      <td>Novel</td>\n",
       "      <td>Known</td>\n",
       "    </tr>\n",
       "    <tr>\n",
       "      <th>...</th>\n",
       "      <td>...</td>\n",
       "      <td>...</td>\n",
       "      <td>...</td>\n",
       "    </tr>\n",
       "    <tr>\n",
       "      <th>81748.0</th>\n",
       "      <td>ENSG00000279965[1,1,1]</td>\n",
       "      <td>Novel</td>\n",
       "      <td>Known</td>\n",
       "    </tr>\n",
       "    <tr>\n",
       "      <th>261017.0</th>\n",
       "      <td>ENSG00000280707[1,1,2]</td>\n",
       "      <td>Novel</td>\n",
       "      <td>Known</td>\n",
       "    </tr>\n",
       "    <tr>\n",
       "      <th>196601.0</th>\n",
       "      <td>ENSG00000282826[1,1,2]</td>\n",
       "      <td>Novel</td>\n",
       "      <td>Known</td>\n",
       "    </tr>\n",
       "    <tr>\n",
       "      <th>111782.0</th>\n",
       "      <td>ENSG00000283221[1,1,1]</td>\n",
       "      <td>Novel</td>\n",
       "      <td>Known</td>\n",
       "    </tr>\n",
       "    <tr>\n",
       "      <th>184654.0</th>\n",
       "      <td>ENSG00000284741[1,1,1]</td>\n",
       "      <td>Novel</td>\n",
       "      <td>Known</td>\n",
       "    </tr>\n",
       "  </tbody>\n",
       "</table>\n",
       "<p>3917 rows × 3 columns</p>\n",
       "</div>"
      ],
      "text/plain": [
       "                             tid ic_novelty novelty\n",
       "319996.0  ENSG00000000003[1,1,5]      Novel   Known\n",
       "319997.0  ENSG00000000003[1,1,7]      Novel   Known\n",
       "319998.0  ENSG00000000003[1,1,8]      Novel   Known\n",
       "22531.0   ENSG00000000938[1,1,2]      Novel   Known\n",
       "259682.0  ENSG00000001167[1,1,1]      Novel   Known\n",
       "...                          ...        ...     ...\n",
       "81748.0   ENSG00000279965[1,1,1]      Novel   Known\n",
       "261017.0  ENSG00000280707[1,1,2]      Novel   Known\n",
       "196601.0  ENSG00000282826[1,1,2]      Novel   Known\n",
       "111782.0  ENSG00000283221[1,1,1]      Novel   Known\n",
       "184654.0  ENSG00000284741[1,1,1]      Novel   Known\n",
       "\n",
       "[3917 rows x 3 columns]"
      ]
     },
     "execution_count": 62,
     "metadata": {},
     "output_type": "execute_result"
    }
   ],
   "source": [
    "temp.loc[(temp.ic_novelty == 'Novel')&(temp.novelty=='Known')]"
   ]
  },
  {
   "cell_type": "code",
   "execution_count": 64,
   "id": "a7b23ce9-bcd4-4de1-9a28-ce405130d731",
   "metadata": {},
   "outputs": [
    {
     "data": {
      "text/html": [
       "<div>\n",
       "<style scoped>\n",
       "    .dataframe tbody tr th:only-of-type {\n",
       "        vertical-align: middle;\n",
       "    }\n",
       "\n",
       "    .dataframe tbody tr th {\n",
       "        vertical-align: top;\n",
       "    }\n",
       "\n",
       "    .dataframe thead th {\n",
       "        text-align: right;\n",
       "    }\n",
       "</style>\n",
       "<table border=\"1\" class=\"dataframe\">\n",
       "  <thead>\n",
       "    <tr style=\"text-align: right;\">\n",
       "      <th></th>\n",
       "      <th>Chromosome</th>\n",
       "      <th>Strand</th>\n",
       "      <th>Coordinates</th>\n",
       "      <th>Name</th>\n",
       "      <th>source</th>\n",
       "      <th>gene_id</th>\n",
       "      <th>ic</th>\n",
       "    </tr>\n",
       "  </thead>\n",
       "  <tbody>\n",
       "    <tr>\n",
       "      <th>197210</th>\n",
       "      <td>chr6</td>\n",
       "      <td>+</td>\n",
       "      <td>41073084-41079028-41079164-41080810-41080897-4...</td>\n",
       "      <td>ENSG00000001167_1</td>\n",
       "      <td>v40,v29,lapa</td>\n",
       "      <td>ENSG00000001167</td>\n",
       "      <td>1</td>\n",
       "    </tr>\n",
       "  </tbody>\n",
       "</table>\n",
       "</div>"
      ],
      "text/plain": [
       "       Chromosome Strand                                        Coordinates  \\\n",
       "197210       chr6      +  41073084-41079028-41079164-41080810-41080897-4...   \n",
       "\n",
       "                     Name        source          gene_id  ic  \n",
       "197210  ENSG00000001167_1  v40,v29,lapa  ENSG00000001167   1  "
      ]
     },
     "execution_count": 64,
     "metadata": {},
     "output_type": "execute_result"
    }
   ],
   "source": [
    "ca.ic.loc[ca.ic.Name == 'ENSG00000001167_1']"
   ]
  },
  {
   "cell_type": "code",
   "execution_count": 50,
   "id": "292a5ba3-c36f-4005-9796-670349e74ad9",
   "metadata": {},
   "outputs": [
    {
     "data": {
      "text/html": [
       "<div>\n",
       "<style scoped>\n",
       "    .dataframe tbody tr th:only-of-type {\n",
       "        vertical-align: middle;\n",
       "    }\n",
       "\n",
       "    .dataframe tbody tr th {\n",
       "        vertical-align: top;\n",
       "    }\n",
       "\n",
       "    .dataframe thead th {\n",
       "        text-align: right;\n",
       "    }\n",
       "</style>\n",
       "<table border=\"1\" class=\"dataframe\">\n",
       "  <thead>\n",
       "    <tr style=\"text-align: right;\">\n",
       "      <th></th>\n",
       "      <th>original_transcript_id</th>\n",
       "      <th>ic</th>\n",
       "      <th>ic_id</th>\n",
       "      <th>tss_id</th>\n",
       "      <th>tss</th>\n",
       "      <th>tes_id</th>\n",
       "      <th>tes</th>\n",
       "      <th>gene_id</th>\n",
       "      <th>gene_name</th>\n",
       "      <th>original_transcript_name</th>\n",
       "      <th>transcript_triplet</th>\n",
       "      <th>transcript_id</th>\n",
       "      <th>transcript_name</th>\n",
       "      <th>tss_first_sd_issue</th>\n",
       "      <th>tes_last_sa_issue</th>\n",
       "      <th>source</th>\n",
       "      <th>ic_novelty</th>\n",
       "      <th>tss_novelty</th>\n",
       "      <th>tes_novelty</th>\n",
       "    </tr>\n",
       "  </thead>\n",
       "  <tbody>\n",
       "  </tbody>\n",
       "</table>\n",
       "</div>"
      ],
      "text/plain": [
       "Empty DataFrame\n",
       "Columns: [original_transcript_id, ic, ic_id, tss_id, tss, tes_id, tes, gene_id, gene_name, original_transcript_name, transcript_triplet, transcript_id, transcript_name, tss_first_sd_issue, tes_last_sa_issue, source, ic_novelty, tss_novelty, tes_novelty]\n",
       "Index: []"
      ]
     },
     "execution_count": 50,
     "metadata": {},
     "output_type": "execute_result"
    }
   ],
   "source": [
    "ca.t_map.loc[ca.t_map.transcript_id == 'ENSG00000000003[1,1,9]']"
   ]
  },
  {
   "cell_type": "code",
   "execution_count": 52,
   "id": "c12fab53-8b61-40b3-920b-13df89d17d6d",
   "metadata": {},
   "outputs": [
    {
     "data": {
      "text/html": [
       "<div>\n",
       "<style scoped>\n",
       "    .dataframe tbody tr th:only-of-type {\n",
       "        vertical-align: middle;\n",
       "    }\n",
       "\n",
       "    .dataframe tbody tr th {\n",
       "        vertical-align: top;\n",
       "    }\n",
       "\n",
       "    .dataframe thead th {\n",
       "        text-align: right;\n",
       "    }\n",
       "</style>\n",
       "<table border=\"1\" class=\"dataframe\">\n",
       "  <thead>\n",
       "    <tr style=\"text-align: right;\">\n",
       "      <th></th>\n",
       "      <th>Chromosome</th>\n",
       "      <th>Start</th>\n",
       "      <th>End</th>\n",
       "      <th>Strand</th>\n",
       "      <th>Name</th>\n",
       "      <th>source</th>\n",
       "      <th>gene_id</th>\n",
       "      <th>tes</th>\n",
       "    </tr>\n",
       "  </thead>\n",
       "  <tbody>\n",
       "    <tr>\n",
       "      <th>219504</th>\n",
       "      <td>chrX</td>\n",
       "      <td>100629123</td>\n",
       "      <td>100629132</td>\n",
       "      <td>-</td>\n",
       "      <td>ENSG00000000003_9</td>\n",
       "      <td>pas,polya_atlas</td>\n",
       "      <td>ENSG00000000003</td>\n",
       "      <td>9</td>\n",
       "    </tr>\n",
       "  </tbody>\n",
       "</table>\n",
       "</div>"
      ],
      "text/plain": [
       "       Chromosome      Start        End Strand               Name  \\\n",
       "219504       chrX  100629123  100629132      -  ENSG00000000003_9   \n",
       "\n",
       "                 source          gene_id  tes  \n",
       "219504  pas,polya_atlas  ENSG00000000003    9  "
      ]
     },
     "execution_count": 52,
     "metadata": {},
     "output_type": "execute_result"
    }
   ],
   "source": [
    "ca.tes.loc[ca.tes.Name == 'ENSG00000000003_9']"
   ]
  },
  {
   "cell_type": "markdown",
   "id": "1da139ec-25f9-4e77-b10a-e29eca32d5b1",
   "metadata": {},
   "source": [
    "## Make sure that appending to cerberus object is working correctly"
   ]
  },
  {
   "cell_type": "code",
   "execution_count": 4,
   "id": "48e7bae1-fdb7-449e-907d-aabcdde13978",
   "metadata": {},
   "outputs": [],
   "source": [
    "fname = '/Users/fairliereese/mortazavi_lab/data/rnawg/lr_bulk/cerberus/test.h5'\n",
    "ca = cerberus.read(fname)"
   ]
  },
  {
   "cell_type": "code",
   "execution_count": 6,
   "id": "0700ef47-5461-482b-b6f2-cd2e7505c8d3",
   "metadata": {},
   "outputs": [
    {
     "data": {
      "text/plain": [
       "array(['lapa', 'v29'], dtype=object)"
      ]
     },
     "execution_count": 6,
     "metadata": {},
     "output_type": "execute_result"
    }
   ],
   "source": [
    "ca.t_map.source.unique()"
   ]
  },
  {
   "cell_type": "markdown",
   "id": "f7368a5d-7664-4257-83d0-c9a9cdb351ce",
   "metadata": {},
   "source": [
    "## where are the no coordinate ics going?"
   ]
  },
  {
   "cell_type": "code",
   "execution_count": 2,
   "id": "7687084f-e49a-4f35-9612-b3e207cd6076",
   "metadata": {},
   "outputs": [],
   "source": [
    "h5 = '~/mortazavi_lab/data/rnawg/lr_bulk/cerberus/cerberus_ref.h5'\n",
    "ic_ref = '~/mortazavi_lab/data/rnawg/lr_bulk/cerberus/agg_ics.tsv'"
   ]
  },
  {
   "cell_type": "code",
   "execution_count": 5,
   "id": "79aaf903-1f0f-45dc-b16f-66361b0a177d",
   "metadata": {},
   "outputs": [],
   "source": [
    "# df = read_ic_ref(ic_ref, add_gid=True, add_num=True) # pass\n",
    "ic, tss, tes, tss_map, tes_map, m = read_h5(h5) # pass"
   ]
  },
  {
   "cell_type": "code",
   "execution_count": 7,
   "id": "4cd5ee71-dcba-47ff-9dc0-240a1811d0b6",
   "metadata": {},
   "outputs": [
    {
     "data": {
      "text/html": [
       "<div>\n",
       "<style scoped>\n",
       "    .dataframe tbody tr th:only-of-type {\n",
       "        vertical-align: middle;\n",
       "    }\n",
       "\n",
       "    .dataframe tbody tr th {\n",
       "        vertical-align: top;\n",
       "    }\n",
       "\n",
       "    .dataframe thead th {\n",
       "        text-align: right;\n",
       "    }\n",
       "</style>\n",
       "<table border=\"1\" class=\"dataframe\">\n",
       "  <thead>\n",
       "    <tr style=\"text-align: right;\">\n",
       "      <th></th>\n",
       "      <th>Chromosome</th>\n",
       "      <th>Strand</th>\n",
       "      <th>Coordinates</th>\n",
       "      <th>Name</th>\n",
       "      <th>source</th>\n",
       "      <th>gene_id</th>\n",
       "      <th>ic</th>\n",
       "    </tr>\n",
       "  </thead>\n",
       "  <tbody>\n",
       "    <tr>\n",
       "      <th>0</th>\n",
       "      <td>chr1</td>\n",
       "      <td>+</td>\n",
       "      <td></td>\n",
       "      <td>ENSG00000004487_18</td>\n",
       "      <td>v40,v29,lapa</td>\n",
       "      <td>ENSG00000004487</td>\n",
       "      <td>18</td>\n",
       "    </tr>\n",
       "    <tr>\n",
       "      <th>1</th>\n",
       "      <td>chr1</td>\n",
       "      <td>+</td>\n",
       "      <td></td>\n",
       "      <td>ENSG00000033122_5</td>\n",
       "      <td>v40,v29,lapa</td>\n",
       "      <td>ENSG00000033122</td>\n",
       "      <td>5</td>\n",
       "    </tr>\n",
       "    <tr>\n",
       "      <th>2</th>\n",
       "      <td>chr1</td>\n",
       "      <td>+</td>\n",
       "      <td></td>\n",
       "      <td>ENSG00000049246_6</td>\n",
       "      <td>v40,v29,lapa</td>\n",
       "      <td>ENSG00000049246</td>\n",
       "      <td>6</td>\n",
       "    </tr>\n",
       "    <tr>\n",
       "      <th>3</th>\n",
       "      <td>chr1</td>\n",
       "      <td>+</td>\n",
       "      <td></td>\n",
       "      <td>ENSG00000077157_8</td>\n",
       "      <td>v40,v29,lapa</td>\n",
       "      <td>ENSG00000077157</td>\n",
       "      <td>8</td>\n",
       "    </tr>\n",
       "    <tr>\n",
       "      <th>4</th>\n",
       "      <td>chr1</td>\n",
       "      <td>+</td>\n",
       "      <td></td>\n",
       "      <td>ENSG00000099260_3</td>\n",
       "      <td>v40,v29,lapa</td>\n",
       "      <td>ENSG00000099260</td>\n",
       "      <td>3</td>\n",
       "    </tr>\n",
       "  </tbody>\n",
       "</table>\n",
       "</div>"
      ],
      "text/plain": [
       "  Chromosome Strand Coordinates                Name        source  \\\n",
       "0       chr1      +              ENSG00000004487_18  v40,v29,lapa   \n",
       "1       chr1      +               ENSG00000033122_5  v40,v29,lapa   \n",
       "2       chr1      +               ENSG00000049246_6  v40,v29,lapa   \n",
       "3       chr1      +               ENSG00000077157_8  v40,v29,lapa   \n",
       "4       chr1      +               ENSG00000099260_3  v40,v29,lapa   \n",
       "\n",
       "           gene_id  ic  \n",
       "0  ENSG00000004487  18  \n",
       "1  ENSG00000033122   5  \n",
       "2  ENSG00000049246   6  \n",
       "3  ENSG00000077157   8  \n",
       "4  ENSG00000099260   3  "
      ]
     },
     "execution_count": 7,
     "metadata": {},
     "output_type": "execute_result"
    }
   ],
   "source": [
    "ic.head()"
   ]
  },
  {
   "cell_type": "markdown",
   "id": "64f6f184-c6fa-4590-b95f-c9550d464891",
   "metadata": {},
   "source": [
    "## fix issue with agg_2_ends w/ duplicated regions"
   ]
  },
  {
   "cell_type": "code",
   "execution_count": 2,
   "id": "7c57945e-42d7-4b45-8d61-5115fd83f1be",
   "metadata": {},
   "outputs": [],
   "source": [
    "def make_end_df(c,s,st,e,n, source,mode):\n",
    "    df = pd.DataFrame()\n",
    "    cols = ['Chromosome', 'Strand', 'Start', 'End', 'Name']\n",
    "    var = [c,s,st,e,n]\n",
    "    for col, var in zip(cols, var):\n",
    "        if type(var) == list:\n",
    "            df[col] = var\n",
    "\n",
    "    # add source\n",
    "    df['source'] = source\n",
    "\n",
    "    df = format_end_df(df)\n",
    "\n",
    "    # get end # and gene id\n",
    "    if any(df.Name.isnull()):\n",
    "        df['gene_id'] = np.nan\n",
    "        df[mode] = np.nan\n",
    "    else:\n",
    "        df['gene_id'] = df.Name.str.split('_', expand=True)[0]\n",
    "        df[mode] = df.Name.str.split('_', expand=True)[1]\n",
    "\n",
    "    # get arbitrary unique ids\n",
    "    df['id'] = [i for i in range(len(df.index))]\n",
    "\n",
    "    return df#\n",
    "\n",
    "def format_end_df(df):\n",
    "    sort_cols = ['Chromosome', 'Start', 'End', 'Strand']\n",
    "    df = df.sort_values(by=sort_cols)\n",
    "    order = ['Chromosome', 'Start', 'End', 'Strand', 'Name', 'source']\n",
    "    order = [o for o in order if o in df.columns]\n",
    "    df = df[order]\n",
    "    df.reset_index(drop=True, inplace=True)\n",
    "    return df\n",
    "\n",
    "def test_agg_2_ends_1(print_dfs=True):\n",
    "    \"\"\"\n",
    "    Test agg_2_ends w/ and w/o end adding\n",
    "    \"\"\"\n",
    "\n",
    "    def get_test(mode='tss'):\n",
    "        # example has\n",
    "        # - entries that overlap\n",
    "        # - entries that don't overlap but are within a certain distance\n",
    "        # - entries that are unique to either\n",
    "        # - entries that overlap but aren't using the same gene_id / strand (these will be\n",
    "        #      equivalent situtations b/c the gene ids for things on different strands will always\n",
    "        #      differ\n",
    "        # - entries in bed2 that are non continuous but overlap the same\n",
    "        #      entry in bed1\n",
    "        # - entries in bed1 that the same entry in bed2 maps to that are all the same gene\n",
    "        #       bed1: gene3_1, gene3_2\n",
    "        #       bed2: gene3_1\n",
    "        # - entries in bed1 that the same entry in bed2 maps to that are NOT from the same gene;\n",
    "        #    need to create new end\n",
    "        #       bed1: gene3_1, gene3_2\n",
    "        #       bed2: gene4_1\n",
    "        # - entry in bed1 that multiple entries in bed2 overlap\n",
    "        #      \n",
    "\n",
    "        slack = 20\n",
    "\n",
    "        n = 6\n",
    "        c = ['1' for i in range(n)]\n",
    "        s = ['+' for i in range(n)]\n",
    "        st = [1, 200, 100, 300, 700, 760]\n",
    "        e = [15, 250, 110, 340, 750, 770] \n",
    "        n = ['gene1_1', 'gene1_2', 'gene1_3', 'gene1_4', 'gene3_1', 'gene3_2']\n",
    "        source = 'v1'\n",
    "        bed1 = make_end_df(c,s,st,e,n, source, mode)\n",
    "        bed1 = pr.PyRanges(bed1)\n",
    "\n",
    "        n = 7\n",
    "        c = ['1' for i in range(n)]\n",
    "        s = ['+' for i in range(n)]\n",
    "        st = [5, 20, 120, 500, 200, 750, 750]\n",
    "        e = [10, 25, 140, 550, 250, 775, 775]\n",
    "        n = ['gene1_1', 'gene1_4', 'gene1_2', 'gene1_3', 'gene2_1', 'gene3_1', 'gene4_1']\n",
    "        source = 'v2'\n",
    "        bed2 = make_end_df(c,s,st,e,n, source, mode)\n",
    "        bed2 = pr.PyRanges(bed2)\n",
    "\n",
    "        return bed1, bed2\n",
    "\n",
    "    def get_ctrl(add=True):\n",
    "\n",
    "        mode = 'tss'\n",
    "\n",
    "        n = 9\n",
    "        c = ['1' for i in range(n)]\n",
    "        s = ['+' for i in range(n)]\n",
    "        st = [1,200,100,300,700,760, 200,500,750]\n",
    "        e = [15,250,110,340,750,770, 250,550,775]\n",
    "        n = ['gene1_1', 'gene1_2', 'gene1_3', 'gene1_4', 'gene3_1', 'gene3_2', 'gene2_1', 'gene1_5', 'gene4_1']\n",
    "        source = ['v1,v2','v1','v1,v2','v1','v1,v2','v1,v2', 'v2','v2','v2']\n",
    "        df = make_end_df(c,s,st,e,n, source,mode)\n",
    "\n",
    "        # convert a few dtypes\n",
    "        df['Strand'] = df['Strand'].astype('category')\n",
    "        df['Chromosome'] = df['Chromosome'].astype('category')\n",
    "\n",
    "        # if we're not adding new ends\n",
    "        if not add:\n",
    "            df = df.loc[df.source != 'v2']\n",
    "\n",
    "        # remove unnecessary columns\n",
    "        df.drop(['gene_id', 'id', mode], axis=1, inplace=True)\n",
    "\n",
    "        # fix ids\n",
    "        df.reset_index(drop=True, inplace=True)\n",
    "\n",
    "        return df\n",
    "\n",
    "    def get_ctrl_source_map(add=True):\n",
    "        # n = 9\n",
    "        # c = ['1' for i in range(n)]\n",
    "        # s = ['+' for i in range(n)]\n",
    "        # st = [1, 200, 100, 300,  5, 20, 120, 500, 200]\n",
    "        # e = [15, 250, 110, 340,  10, 25, 140, 550, 250]\n",
    "        # n = ['gene1_1', 'gene1_2', 'gene1_3', 'gene1_4',\n",
    "        #      'gene1_1', 'gene1_1', 'gene1_3', 'gene1_5', 'gene2_1']\n",
    "        # source = ['v1' for i in range(4)]+['v2' for i in range(5)]\n",
    "        # mode = 'tss'\n",
    "        # df = make_end_df(c,s,st,e,n, source,mode)\n",
    "        # df = df.loc[df.source == 'v2']\n",
    "        # df.drop(['gene_id', mode, 'id'], axis=1, inplace=True)\n",
    "\n",
    "        n = 7\n",
    "        c = ['1' for i in range(n)]\n",
    "        s = ['+' for i in range(n)]\n",
    "        st = [5, 20, 120, 500, 200, 750, 750]\n",
    "        e = [10, 25, 140, 550, 250, 775, 775]\n",
    "        n = ['gene1_1', 'gene1_1', 'gene1_3', 'gene1_5', 'gene2_1', 'gene3_1', 'gene3_2']\n",
    "        source = 'v2'\n",
    "        mode = 'tss'\n",
    "        df = make_end_df(c,s,st,e,n, source,mode)\n",
    "        df = df.loc[df.source == 'v2']\n",
    "        df.drop(['gene_id', mode, 'id'], axis=1, inplace=True)\n",
    "        df['Strand'] = df['Strand'].astype('category')\n",
    "        df['Chromosome'] = df['Chromosome'].astype('category')\n",
    "\n",
    "        if not add:\n",
    "            new_names = ['gene2_1', 'gene1_5']\n",
    "            new_inds = df.loc[df.Name.isin(new_names)].index\n",
    "            df.loc[new_inds, 'Name'] = np.nan\n",
    "\n",
    "        return df\n",
    "\n",
    "    tests = [True, False]\n",
    "    for add_ends in tests:\n",
    "\n",
    "        slack = 20\n",
    "        mode = 'tss'\n",
    "        sort_cols = ['Chromosome', 'Strand', 'gene_id', 'Start', 'End']\n",
    "        order = ['Chromosome', 'Start', 'End', 'Strand', 'Name',\n",
    "                 'gene_id', 'source', mode]\n",
    "        bed1, bed2 = get_test()\n",
    "\n",
    "        df, m_source = agg_2_ends(bed1, bed2,\n",
    "                        strand=True,\n",
    "                        gid=True,\n",
    "                        slack=slack,\n",
    "                        add_ends=add_ends,\n",
    "                        mode=mode)\n",
    "\n",
    "        test = format_end_df(df)\n",
    "        test_m = format_end_df(m_source)\n",
    "        ctrl = get_ctrl(add=add_ends)\n",
    "        ctrl_m = get_ctrl_source_map(add=add_ends)\n",
    "\n",
    "        if print_dfs:\n",
    "            print('test')\n",
    "            print(test)\n",
    "            print(test.index)\n",
    "            print(test.dtypes)\n",
    "            print('ctrl')\n",
    "            print(ctrl)\n",
    "            print(ctrl.index)\n",
    "            print(ctrl.dtypes)\n",
    "            print('test source map')\n",
    "            print(test_m)\n",
    "            print(test_m.index)\n",
    "            print(test_m.dtypes)\n",
    "            print('ctrl source map')\n",
    "            print(ctrl_m)\n",
    "            print(ctrl_m.index)\n",
    "            print(ctrl_m.dtypes)\n",
    "\n",
    "        pd.testing.assert_frame_equal(ctrl, test, check_like=True)\n",
    "        assert len(ctrl.index) == len(test.index)\n",
    "    \n",
    "        pd.testing.assert_frame_equal(ctrl_m, test_m, check_like=True)\n",
    "        assert len(ctrl_m.index) == len(test_m.index)\n",
    "\n",
    "# def test_agg_2_ends_2(print_dfs=True):\n",
    "#     \"\"\"\n",
    "#     Test agg_2_ends w/ and w/o end adding\n",
    "#     \"\"\"\n",
    "\n",
    "#     def get_test(mode='tss'):\n",
    "\n",
    "#         # adding a bed file that doesn't have strand or gid info\n",
    "#         # entries in bed2 that are duplicated based on\n",
    "#         # - strandedness\n",
    "#         # - gene id\n",
    "#         # entries in bed2 where both of them overlap the same region\n",
    "#         # in bed1\n",
    "\n",
    "#         slack = 20\n",
    "\n",
    "#         n = 6\n",
    "#         c = ['1' for i in range(n)]\n",
    "#         s = ['+' for i in range(n)]\n",
    "#         s[-1] = '-'\n",
    "#         st = [1, 200, 100, 300, 260, 260]\n",
    "#         e = [15, 250, 110, 340, 290, 290]\n",
    "#         n = ['gene1_1', 'gene1_2', 'gene1_3', 'gene1_4', 'gene2_1', 'gene3_1']\n",
    "#         source = 'v1'\n",
    "#         bed1 = make_end_df(c,s,st,e,n, source, mode)\n",
    "#         bed1 = pr.PyRanges(bed1)\n",
    "\n",
    "#         n = 5\n",
    "#         c = ['1' for i in range(n)]\n",
    "#         s = [np.nan for i in range(n)]\n",
    "#         st = [5, 11, 120, 500, 200]\n",
    "#         e = [10, 21, 140, 550, 250]\n",
    "#         n = [np.nan for i in range(n)]\n",
    "#         source = 'v2'\n",
    "#         bed2 = make_end_df(c,s,st,e,n, source, mode)\n",
    "#         bed2 = pr.PyRanges(bed2)\n",
    "\n",
    "#         return bed1, bed2\n",
    "\n",
    "#     def get_ctrl(add=True):\n",
    "\n",
    "#         mode = 'tss'\n",
    "\n",
    "#         n = 6\n",
    "#         c = ['1' for i in range(n)]\n",
    "#         s = ['+' for i in range(n)]\n",
    "#         s[-1] = '-'\n",
    "#         st = [1,200,100,300, 260,260]\n",
    "#         e = [15,250,110,340, 290,290]\n",
    "#         n = ['gene1_1', 'gene1_2', 'gene1_3', 'gene1_4', 'gene2_1', 'gene3_1']\n",
    "#         source = ['v1,v2','v1,v2','v1,v2','v1', 'v1,v2', 'v1,v2']\n",
    "#         df = make_end_df(c,s,st,e,n, source,mode)\n",
    "\n",
    "#         # convert a few dtypes\n",
    "#         df['Strand'] = df['Strand'].astype('category')\n",
    "#         df['Chromosome'] = df['Chromosome'].astype('category')\n",
    "\n",
    "#         # if we're not adding new ends\n",
    "#         if not add:\n",
    "#             df = df.loc[df.source != 'v2']\n",
    "\n",
    "#         # remove unnecessary columns\n",
    "#         df.drop(['gene_id', 'id', mode], axis=1, inplace=True)\n",
    "\n",
    "#         # fix ids\n",
    "#         df.reset_index(drop=True, inplace=True)\n",
    "\n",
    "#         return df\n",
    "\n",
    "#     def get_ctrl_source_map(add=False):\n",
    "\n",
    "#         n = 7\n",
    "#         c = ['1' for i in range(n)]\n",
    "#         s = ['+' for i in range(n)]\n",
    "#         s[-2] = '-'\n",
    "#         s[-1] = np.nan\n",
    "#         st = [5, 11, 120, 200, 200, 200, 500]\n",
    "#         e = [10, 21, 140, 250, 250, 250, 550]\n",
    "#         n = ['gene1_1', 'gene1_1', 'gene1_3', 'gene1_2', 'gene2_1', 'gene3_1', np.nan]\n",
    "#         source = 'v2'\n",
    "#         mode = 'tss'\n",
    "#         df = make_end_df(c,s,st,e,n, source,mode)\n",
    "#         df = df.loc[df.source == 'v2']\n",
    "#         df.drop(['gene_id', mode, 'id'], axis=1, inplace=True)\n",
    "#         df['Strand'] = df['Strand'].astype('category')\n",
    "#         df['Chromosome'] = df['Chromosome'].astype('category')\n",
    "\n",
    "#         return df\n",
    "\n",
    "#     strand = False\n",
    "#     gid = False\n",
    "#     add_ends = False\n",
    "\n",
    "#     slack = 20\n",
    "#     mode = 'tss'\n",
    "#     sort_cols = ['Chromosome', 'Strand', 'gene_id', 'Start', 'End']\n",
    "#     order = ['Chromosome', 'Start', 'End', 'Strand', 'Name',\n",
    "#              'gene_id', 'source', mode]\n",
    "#     bed1, bed2 = get_test()\n",
    "#     df, m_source = agg_2_ends(bed1, bed2,\n",
    "#                     strand=strand,\n",
    "#                     gid=gid,\n",
    "#                     slack=slack,\n",
    "#                     add_ends=add_ends,\n",
    "#                     mode=mode)\n",
    "#     test = format_end_df(df)\n",
    "#     test_m = format_end_df(m_source)\n",
    "#     ctrl = get_ctrl(add=add_ends)\n",
    "#     ctrl_m = get_ctrl_source_map()\n",
    "\n",
    "#     if print_dfs:\n",
    "#         print('test')\n",
    "#         print(test)\n",
    "#         print(test.index)\n",
    "#         print(test.dtypes)\n",
    "#         print('ctrl')\n",
    "#         print(ctrl)\n",
    "#         print(ctrl.index)\n",
    "#         print(ctrl.dtypes)\n",
    "#         print('test source map')\n",
    "#         print(test_m)\n",
    "#         print(test_m.index)\n",
    "#         print(test_m.dtypes)\n",
    "#         print('ctrl source map')\n",
    "#         print(ctrl_m)\n",
    "#         print(ctrl_m.index)\n",
    "#         print(ctrl_m.dtypes)\n",
    "\n",
    "#     pd.testing.assert_frame_equal(ctrl, test, check_like=True)\n",
    "#     assert len(ctrl.index) == len(test.index)\n",
    "\n",
    "#     pd.testing.assert_frame_equal(ctrl_m, test_m, check_like=True)\n",
    "#     assert len(ctrl_m.index) == len(test_m.index)"
   ]
  },
  {
   "cell_type": "code",
   "execution_count": null,
   "id": "81f74c3c-a2fe-4afb-bdd3-3e3e76d8c606",
   "metadata": {},
   "outputs": [
    {
     "name": "stdout",
     "output_type": "stream",
     "text": [
      "> \u001b[0;32m/Users/fairliereese/Documents/programming/mortazavi_lab/bin/cerberus/cerberus/cerberus.py\u001b[0m(428)\u001b[0;36magg_2_ends\u001b[0;34m()\u001b[0m\n",
      "\u001b[0;32m    426 \u001b[0;31m\u001b[0;34m\u001b[0m\u001b[0m\n",
      "\u001b[0m\u001b[0;32m    427 \u001b[0;31m    \u001b[0;31m# situation 1: ends match across the datasets in coord and gene id\u001b[0m\u001b[0;34m\u001b[0m\u001b[0;34m\u001b[0m\u001b[0;34m\u001b[0m\u001b[0m\n",
      "\u001b[0m\u001b[0;32m--> 428 \u001b[0;31m    \u001b[0;32mif\u001b[0m \u001b[0mgid\u001b[0m\u001b[0;34m:\u001b[0m\u001b[0;34m\u001b[0m\u001b[0;34m\u001b[0m\u001b[0m\n",
      "\u001b[0m\u001b[0;32m    429 \u001b[0;31m        \u001b[0mtemp\u001b[0m \u001b[0;34m=\u001b[0m \u001b[0mtemp_joined\u001b[0m\u001b[0;34m.\u001b[0m\u001b[0mloc\u001b[0m\u001b[0;34m[\u001b[0m\u001b[0mtemp_joined\u001b[0m\u001b[0;34m.\u001b[0m\u001b[0mgene_id\u001b[0m \u001b[0;34m==\u001b[0m \u001b[0mtemp_joined\u001b[0m\u001b[0;34m.\u001b[0m\u001b[0mgene_id_new\u001b[0m\u001b[0;34m]\u001b[0m\u001b[0;34m.\u001b[0m\u001b[0mcopy\u001b[0m\u001b[0;34m(\u001b[0m\u001b[0mdeep\u001b[0m\u001b[0;34m=\u001b[0m\u001b[0;32mTrue\u001b[0m\u001b[0;34m)\u001b[0m\u001b[0;34m\u001b[0m\u001b[0;34m\u001b[0m\u001b[0m\n",
      "\u001b[0m\u001b[0;32m    430 \u001b[0;31m    \u001b[0;32melse\u001b[0m\u001b[0;34m:\u001b[0m\u001b[0;34m\u001b[0m\u001b[0;34m\u001b[0m\u001b[0m\n",
      "\u001b[0m\n"
     ]
    },
    {
     "name": "stdin",
     "output_type": "stream",
     "text": [
      "ipdb>  temp_joined.head()\n"
     ]
    },
    {
     "name": "stdout",
     "output_type": "stream",
     "text": [
      "  Chromosome  Start  End Strand     Name source gene_id tss  id  Start_new  \\\n",
      "0          1      1   15      +  gene1_1     v1   gene1   1   0        5.0   \n",
      "1          1      1   15      +  gene1_1     v1   gene1   1   0       20.0   \n",
      "2          1    100  110      +  gene1_3     v1   gene1   3   1      120.0   \n",
      "3          1    200  250      +  gene1_2     v1   gene1   2   2      200.0   \n",
      "8          1    300  340      +  gene1_4     v1   gene1   4   3        NaN   \n",
      "\n",
      "   End_new Strand_new Name_new source_new gene_id_new tss_new  id_new  \n",
      "0       10          +  gene1_1         v2       gene1       1       0  \n",
      "1       25          +  gene1_4         v2       gene1       4       1  \n",
      "2      140          +  gene1_2         v2       gene1       2       2  \n",
      "3      250          +  gene2_1         v2       gene2       1       3  \n",
      "8       -1          +       -1         -1          -1      -1      -1  \n"
     ]
    },
    {
     "name": "stdin",
     "output_type": "stream",
     "text": [
      "ipdb>  temp_joined\n"
     ]
    },
    {
     "name": "stdout",
     "output_type": "stream",
     "text": [
      "  Chromosome  Start  End Strand     Name source gene_id tss  id  Start_new  \\\n",
      "0          1      1   15      +  gene1_1     v1   gene1   1   0        5.0   \n",
      "1          1      1   15      +  gene1_1     v1   gene1   1   0       20.0   \n",
      "2          1    100  110      +  gene1_3     v1   gene1   3   1      120.0   \n",
      "3          1    200  250      +  gene1_2     v1   gene1   2   2      200.0   \n",
      "8          1    300  340      +  gene1_4     v1   gene1   4   3        NaN   \n",
      "4          1    700  750      +  gene3_1     v1   gene3   1   4      750.0   \n",
      "5          1    700  750      +  gene3_1     v1   gene3   1   4      750.0   \n",
      "6          1    760  770      +  gene3_2     v1   gene3   2   5      750.0   \n",
      "7          1    760  770      +  gene3_2     v1   gene3   2   5      750.0   \n",
      "\n",
      "   End_new Strand_new Name_new source_new gene_id_new tss_new  id_new  \n",
      "0       10          +  gene1_1         v2       gene1       1       0  \n",
      "1       25          +  gene1_4         v2       gene1       4       1  \n",
      "2      140          +  gene1_2         v2       gene1       2       2  \n",
      "3      250          +  gene2_1         v2       gene2       1       3  \n",
      "8       -1          +       -1         -1          -1      -1      -1  \n",
      "4      775          +  gene3_1         v2       gene3       1       5  \n",
      "5      775          +  gene4_1         v2       gene4       1       6  \n",
      "6      775          +  gene3_1         v2       gene3       1       5  \n",
      "7      775          +  gene4_1         v2       gene4       1       6  \n"
     ]
    },
    {
     "name": "stdin",
     "output_type": "stream",
     "text": [
      "ipdb>  temp_joined[['Start', 'End', 'gene_id', 'Start_new', 'End_new', 'gene_id_new']]\n"
     ]
    },
    {
     "name": "stdout",
     "output_type": "stream",
     "text": [
      "   Start  End gene_id  Start_new  End_new gene_id_new\n",
      "0      1   15   gene1        5.0       10       gene1\n",
      "1      1   15   gene1       20.0       25       gene1\n",
      "2    100  110   gene1      120.0      140       gene1\n",
      "3    200  250   gene1      200.0      250       gene2\n",
      "8    300  340   gene1        NaN       -1          -1\n",
      "4    700  750   gene3      750.0      775       gene3\n",
      "5    700  750   gene3      750.0      775       gene4\n",
      "6    760  770   gene3      750.0      775       gene3\n",
      "7    760  770   gene3      750.0      775       gene4\n"
     ]
    },
    {
     "name": "stdin",
     "output_type": "stream",
     "text": [
      "ipdb>  n\n"
     ]
    },
    {
     "name": "stdout",
     "output_type": "stream",
     "text": [
      "> \u001b[0;32m/Users/fairliereese/Documents/programming/mortazavi_lab/bin/cerberus/cerberus/cerberus.py\u001b[0m(429)\u001b[0;36magg_2_ends\u001b[0;34m()\u001b[0m\n",
      "\u001b[0;32m    427 \u001b[0;31m    \u001b[0;31m# situation 1: ends match across the datasets in coord and gene id\u001b[0m\u001b[0;34m\u001b[0m\u001b[0;34m\u001b[0m\u001b[0;34m\u001b[0m\u001b[0m\n",
      "\u001b[0m\u001b[0;32m    428 \u001b[0;31m    \u001b[0;32mif\u001b[0m \u001b[0mgid\u001b[0m\u001b[0;34m:\u001b[0m\u001b[0;34m\u001b[0m\u001b[0;34m\u001b[0m\u001b[0m\n",
      "\u001b[0m\u001b[0;32m--> 429 \u001b[0;31m        \u001b[0mtemp\u001b[0m \u001b[0;34m=\u001b[0m \u001b[0mtemp_joined\u001b[0m\u001b[0;34m.\u001b[0m\u001b[0mloc\u001b[0m\u001b[0;34m[\u001b[0m\u001b[0mtemp_joined\u001b[0m\u001b[0;34m.\u001b[0m\u001b[0mgene_id\u001b[0m \u001b[0;34m==\u001b[0m \u001b[0mtemp_joined\u001b[0m\u001b[0;34m.\u001b[0m\u001b[0mgene_id_new\u001b[0m\u001b[0;34m]\u001b[0m\u001b[0;34m.\u001b[0m\u001b[0mcopy\u001b[0m\u001b[0;34m(\u001b[0m\u001b[0mdeep\u001b[0m\u001b[0;34m=\u001b[0m\u001b[0;32mTrue\u001b[0m\u001b[0;34m)\u001b[0m\u001b[0;34m\u001b[0m\u001b[0;34m\u001b[0m\u001b[0m\n",
      "\u001b[0m\u001b[0;32m    430 \u001b[0;31m    \u001b[0;32melse\u001b[0m\u001b[0;34m:\u001b[0m\u001b[0;34m\u001b[0m\u001b[0;34m\u001b[0m\u001b[0m\n",
      "\u001b[0m\u001b[0;32m    431 \u001b[0;31m        \u001b[0mtemp\u001b[0m \u001b[0;34m=\u001b[0m \u001b[0mtemp_joined\u001b[0m\u001b[0;34m.\u001b[0m\u001b[0mloc\u001b[0m\u001b[0;34m[\u001b[0m\u001b[0;34m~\u001b[0m\u001b[0mtemp_joined\u001b[0m\u001b[0;34m.\u001b[0m\u001b[0mStart_new\u001b[0m\u001b[0;34m.\u001b[0m\u001b[0misnull\u001b[0m\u001b[0;34m(\u001b[0m\u001b[0;34m)\u001b[0m\u001b[0;34m]\u001b[0m\u001b[0;34m.\u001b[0m\u001b[0mcopy\u001b[0m\u001b[0;34m(\u001b[0m\u001b[0mdeep\u001b[0m\u001b[0;34m=\u001b[0m\u001b[0;32mTrue\u001b[0m\u001b[0;34m)\u001b[0m\u001b[0;34m\u001b[0m\u001b[0;34m\u001b[0m\u001b[0m\n",
      "\u001b[0m\n"
     ]
    },
    {
     "name": "stdin",
     "output_type": "stream",
     "text": [
      "ipdb>  n\n"
     ]
    },
    {
     "name": "stdout",
     "output_type": "stream",
     "text": [
      "> \u001b[0;32m/Users/fairliereese/Documents/programming/mortazavi_lab/bin/cerberus/cerberus/cerberus.py\u001b[0m(432)\u001b[0;36magg_2_ends\u001b[0;34m()\u001b[0m\n",
      "\u001b[0;32m    430 \u001b[0;31m    \u001b[0;32melse\u001b[0m\u001b[0;34m:\u001b[0m\u001b[0;34m\u001b[0m\u001b[0;34m\u001b[0m\u001b[0m\n",
      "\u001b[0m\u001b[0;32m    431 \u001b[0;31m        \u001b[0mtemp\u001b[0m \u001b[0;34m=\u001b[0m \u001b[0mtemp_joined\u001b[0m\u001b[0;34m.\u001b[0m\u001b[0mloc\u001b[0m\u001b[0;34m[\u001b[0m\u001b[0;34m~\u001b[0m\u001b[0mtemp_joined\u001b[0m\u001b[0;34m.\u001b[0m\u001b[0mStart_new\u001b[0m\u001b[0;34m.\u001b[0m\u001b[0misnull\u001b[0m\u001b[0;34m(\u001b[0m\u001b[0;34m)\u001b[0m\u001b[0;34m]\u001b[0m\u001b[0;34m.\u001b[0m\u001b[0mcopy\u001b[0m\u001b[0;34m(\u001b[0m\u001b[0mdeep\u001b[0m\u001b[0;34m=\u001b[0m\u001b[0;32mTrue\u001b[0m\u001b[0;34m)\u001b[0m\u001b[0;34m\u001b[0m\u001b[0;34m\u001b[0m\u001b[0m\n",
      "\u001b[0m\u001b[0;32m--> 432 \u001b[0;31m    \u001b[0mtemp\u001b[0m\u001b[0;34m.\u001b[0m\u001b[0msource\u001b[0m \u001b[0;34m=\u001b[0m \u001b[0mtemp\u001b[0m\u001b[0;34m.\u001b[0m\u001b[0msource\u001b[0m\u001b[0;34m+\u001b[0m\u001b[0;34m','\u001b[0m\u001b[0;34m+\u001b[0m\u001b[0mtemp\u001b[0m\u001b[0;34m.\u001b[0m\u001b[0msource_new\u001b[0m\u001b[0;34m\u001b[0m\u001b[0;34m\u001b[0m\u001b[0m\n",
      "\u001b[0m\u001b[0;32m    433 \u001b[0;31m    \u001b[0mdf\u001b[0m \u001b[0;34m=\u001b[0m \u001b[0mpd\u001b[0m\u001b[0;34m.\u001b[0m\u001b[0mconcat\u001b[0m\u001b[0;34m(\u001b[0m\u001b[0;34m[\u001b[0m\u001b[0mdf\u001b[0m\u001b[0;34m,\u001b[0m \u001b[0mtemp\u001b[0m\u001b[0;34m]\u001b[0m\u001b[0;34m)\u001b[0m\u001b[0;34m\u001b[0m\u001b[0;34m\u001b[0m\u001b[0m\n",
      "\u001b[0m\u001b[0;32m    434 \u001b[0;31m\u001b[0;34m\u001b[0m\u001b[0m\n",
      "\u001b[0m\n"
     ]
    },
    {
     "name": "stdin",
     "output_type": "stream",
     "text": [
      "ipdb>  n\n"
     ]
    },
    {
     "name": "stdout",
     "output_type": "stream",
     "text": [
      "> \u001b[0;32m/Users/fairliereese/Documents/programming/mortazavi_lab/bin/cerberus/cerberus/cerberus.py\u001b[0m(433)\u001b[0;36magg_2_ends\u001b[0;34m()\u001b[0m\n",
      "\u001b[0;32m    431 \u001b[0;31m        \u001b[0mtemp\u001b[0m \u001b[0;34m=\u001b[0m \u001b[0mtemp_joined\u001b[0m\u001b[0;34m.\u001b[0m\u001b[0mloc\u001b[0m\u001b[0;34m[\u001b[0m\u001b[0;34m~\u001b[0m\u001b[0mtemp_joined\u001b[0m\u001b[0;34m.\u001b[0m\u001b[0mStart_new\u001b[0m\u001b[0;34m.\u001b[0m\u001b[0misnull\u001b[0m\u001b[0;34m(\u001b[0m\u001b[0;34m)\u001b[0m\u001b[0;34m]\u001b[0m\u001b[0;34m.\u001b[0m\u001b[0mcopy\u001b[0m\u001b[0;34m(\u001b[0m\u001b[0mdeep\u001b[0m\u001b[0;34m=\u001b[0m\u001b[0;32mTrue\u001b[0m\u001b[0;34m)\u001b[0m\u001b[0;34m\u001b[0m\u001b[0;34m\u001b[0m\u001b[0m\n",
      "\u001b[0m\u001b[0;32m    432 \u001b[0;31m    \u001b[0mtemp\u001b[0m\u001b[0;34m.\u001b[0m\u001b[0msource\u001b[0m \u001b[0;34m=\u001b[0m \u001b[0mtemp\u001b[0m\u001b[0;34m.\u001b[0m\u001b[0msource\u001b[0m\u001b[0;34m+\u001b[0m\u001b[0;34m','\u001b[0m\u001b[0;34m+\u001b[0m\u001b[0mtemp\u001b[0m\u001b[0;34m.\u001b[0m\u001b[0msource_new\u001b[0m\u001b[0;34m\u001b[0m\u001b[0;34m\u001b[0m\u001b[0m\n",
      "\u001b[0m\u001b[0;32m--> 433 \u001b[0;31m    \u001b[0mdf\u001b[0m \u001b[0;34m=\u001b[0m \u001b[0mpd\u001b[0m\u001b[0;34m.\u001b[0m\u001b[0mconcat\u001b[0m\u001b[0;34m(\u001b[0m\u001b[0;34m[\u001b[0m\u001b[0mdf\u001b[0m\u001b[0;34m,\u001b[0m \u001b[0mtemp\u001b[0m\u001b[0;34m]\u001b[0m\u001b[0;34m)\u001b[0m\u001b[0;34m\u001b[0m\u001b[0;34m\u001b[0m\u001b[0m\n",
      "\u001b[0m\u001b[0;32m    434 \u001b[0;31m\u001b[0;34m\u001b[0m\u001b[0m\n",
      "\u001b[0m\u001b[0;32m    435 \u001b[0;31m    \u001b[0;31m# create source map for ends from this source\u001b[0m\u001b[0;34m\u001b[0m\u001b[0;34m\u001b[0m\u001b[0;34m\u001b[0m\u001b[0m\n",
      "\u001b[0m\n"
     ]
    },
    {
     "name": "stdin",
     "output_type": "stream",
     "text": [
      "ipdb>  n\n"
     ]
    },
    {
     "name": "stdout",
     "output_type": "stream",
     "text": [
      "> \u001b[0;32m/Users/fairliereese/Documents/programming/mortazavi_lab/bin/cerberus/cerberus/cerberus.py\u001b[0m(436)\u001b[0;36magg_2_ends\u001b[0;34m()\u001b[0m\n",
      "\u001b[0;32m    434 \u001b[0;31m\u001b[0;34m\u001b[0m\u001b[0m\n",
      "\u001b[0m\u001b[0;32m    435 \u001b[0;31m    \u001b[0;31m# create source map for ends from this source\u001b[0m\u001b[0;34m\u001b[0m\u001b[0;34m\u001b[0m\u001b[0;34m\u001b[0m\u001b[0m\n",
      "\u001b[0m\u001b[0;32m--> 436 \u001b[0;31m    \u001b[0mm_source\u001b[0m \u001b[0;34m=\u001b[0m \u001b[0mdf\u001b[0m\u001b[0;34m.\u001b[0m\u001b[0mloc\u001b[0m\u001b[0;34m[\u001b[0m\u001b[0mdf\u001b[0m\u001b[0;34m.\u001b[0m\u001b[0msource_new\u001b[0m \u001b[0;34m==\u001b[0m \u001b[0msource2\u001b[0m\u001b[0;34m]\u001b[0m\u001b[0;34m\u001b[0m\u001b[0;34m\u001b[0m\u001b[0m\n",
      "\u001b[0m\u001b[0;32m    437 \u001b[0;31m    m_source = m_source[['Chromosome', 'Start_new', 'End_new', 'Strand',\n",
      "\u001b[0m\u001b[0;32m    438 \u001b[0;31m                   'source_new', 'Name']].copy(deep=True)\n",
      "\u001b[0m\n"
     ]
    },
    {
     "name": "stdin",
     "output_type": "stream",
     "text": [
      "ipdb>  df[['Start', 'End', 'gene_id', 'Start_new', 'End_new', 'gene_id_new']]\n"
     ]
    },
    {
     "name": "stdout",
     "output_type": "stream",
     "text": [
      "   Start  End gene_id  Start_new  End_new gene_id_new\n",
      "0      1   15   gene1        5.0       10       gene1\n",
      "1      1   15   gene1       20.0       25       gene1\n",
      "2    100  110   gene1      120.0      140       gene1\n",
      "4    700  750   gene3      750.0      775       gene3\n",
      "6    760  770   gene3      750.0      775       gene3\n"
     ]
    },
    {
     "name": "stdin",
     "output_type": "stream",
     "text": [
      "ipdb>  n\n"
     ]
    },
    {
     "name": "stdout",
     "output_type": "stream",
     "text": [
      "> \u001b[0;32m/Users/fairliereese/Documents/programming/mortazavi_lab/bin/cerberus/cerberus/cerberus.py\u001b[0m(437)\u001b[0;36magg_2_ends\u001b[0;34m()\u001b[0m\n",
      "\u001b[0;32m    435 \u001b[0;31m    \u001b[0;31m# create source map for ends from this source\u001b[0m\u001b[0;34m\u001b[0m\u001b[0;34m\u001b[0m\u001b[0;34m\u001b[0m\u001b[0m\n",
      "\u001b[0m\u001b[0;32m    436 \u001b[0;31m    \u001b[0mm_source\u001b[0m \u001b[0;34m=\u001b[0m \u001b[0mdf\u001b[0m\u001b[0;34m.\u001b[0m\u001b[0mloc\u001b[0m\u001b[0;34m[\u001b[0m\u001b[0mdf\u001b[0m\u001b[0;34m.\u001b[0m\u001b[0msource_new\u001b[0m \u001b[0;34m==\u001b[0m \u001b[0msource2\u001b[0m\u001b[0;34m]\u001b[0m\u001b[0;34m\u001b[0m\u001b[0;34m\u001b[0m\u001b[0m\n",
      "\u001b[0m\u001b[0;32m--> 437 \u001b[0;31m    m_source = m_source[['Chromosome', 'Start_new', 'End_new', 'Strand',\n",
      "\u001b[0m\u001b[0;32m    438 \u001b[0;31m                   'source_new', 'Name']].copy(deep=True)\n",
      "\u001b[0m\u001b[0;32m    439 \u001b[0;31m    m_source.rename({'Start_new': 'Start',\n",
      "\u001b[0m\n"
     ]
    },
    {
     "name": "stdin",
     "output_type": "stream",
     "text": [
      "ipdb>  n\n"
     ]
    },
    {
     "name": "stdout",
     "output_type": "stream",
     "text": [
      "> \u001b[0;32m/Users/fairliereese/Documents/programming/mortazavi_lab/bin/cerberus/cerberus/cerberus.py\u001b[0m(438)\u001b[0;36magg_2_ends\u001b[0;34m()\u001b[0m\n",
      "\u001b[0;32m    436 \u001b[0;31m    \u001b[0mm_source\u001b[0m \u001b[0;34m=\u001b[0m \u001b[0mdf\u001b[0m\u001b[0;34m.\u001b[0m\u001b[0mloc\u001b[0m\u001b[0;34m[\u001b[0m\u001b[0mdf\u001b[0m\u001b[0;34m.\u001b[0m\u001b[0msource_new\u001b[0m \u001b[0;34m==\u001b[0m \u001b[0msource2\u001b[0m\u001b[0;34m]\u001b[0m\u001b[0;34m\u001b[0m\u001b[0;34m\u001b[0m\u001b[0m\n",
      "\u001b[0m\u001b[0;32m    437 \u001b[0;31m    m_source = m_source[['Chromosome', 'Start_new', 'End_new', 'Strand',\n",
      "\u001b[0m\u001b[0;32m--> 438 \u001b[0;31m                   'source_new', 'Name']].copy(deep=True)\n",
      "\u001b[0m\u001b[0;32m    439 \u001b[0;31m    m_source.rename({'Start_new': 'Start',\n",
      "\u001b[0m\u001b[0;32m    440 \u001b[0;31m                     \u001b[0;34m'End_new'\u001b[0m\u001b[0;34m:\u001b[0m \u001b[0;34m'End'\u001b[0m\u001b[0;34m,\u001b[0m\u001b[0;34m\u001b[0m\u001b[0;34m\u001b[0m\u001b[0m\n",
      "\u001b[0m\n"
     ]
    },
    {
     "name": "stdin",
     "output_type": "stream",
     "text": [
      "ipdb>  n\n"
     ]
    },
    {
     "name": "stdout",
     "output_type": "stream",
     "text": [
      "> \u001b[0;32m/Users/fairliereese/Documents/programming/mortazavi_lab/bin/cerberus/cerberus/cerberus.py\u001b[0m(439)\u001b[0;36magg_2_ends\u001b[0;34m()\u001b[0m\n",
      "\u001b[0;32m    437 \u001b[0;31m    m_source = m_source[['Chromosome', 'Start_new', 'End_new', 'Strand',\n",
      "\u001b[0m\u001b[0;32m    438 \u001b[0;31m                   'source_new', 'Name']].copy(deep=True)\n",
      "\u001b[0m\u001b[0;32m--> 439 \u001b[0;31m    m_source.rename({'Start_new': 'Start',\n",
      "\u001b[0m\u001b[0;32m    440 \u001b[0;31m                     \u001b[0;34m'End_new'\u001b[0m\u001b[0;34m:\u001b[0m \u001b[0;34m'End'\u001b[0m\u001b[0;34m,\u001b[0m\u001b[0;34m\u001b[0m\u001b[0;34m\u001b[0m\u001b[0m\n",
      "\u001b[0m\u001b[0;32m    441 \u001b[0;31m                     'source_new': 'source'},\n",
      "\u001b[0m\n"
     ]
    },
    {
     "name": "stdin",
     "output_type": "stream",
     "text": [
      "ipdb>  n\n"
     ]
    },
    {
     "name": "stdout",
     "output_type": "stream",
     "text": [
      "> \u001b[0;32m/Users/fairliereese/Documents/programming/mortazavi_lab/bin/cerberus/cerberus/cerberus.py\u001b[0m(440)\u001b[0;36magg_2_ends\u001b[0;34m()\u001b[0m\n",
      "\u001b[0;32m    438 \u001b[0;31m                   'source_new', 'Name']].copy(deep=True)\n",
      "\u001b[0m\u001b[0;32m    439 \u001b[0;31m    m_source.rename({'Start_new': 'Start',\n",
      "\u001b[0m\u001b[0;32m--> 440 \u001b[0;31m                     \u001b[0;34m'End_new'\u001b[0m\u001b[0;34m:\u001b[0m \u001b[0;34m'End'\u001b[0m\u001b[0;34m,\u001b[0m\u001b[0;34m\u001b[0m\u001b[0;34m\u001b[0m\u001b[0m\n",
      "\u001b[0m\u001b[0;32m    441 \u001b[0;31m                     'source_new': 'source'},\n",
      "\u001b[0m\u001b[0;32m    442 \u001b[0;31m                     axis=1, inplace=True)\n",
      "\u001b[0m\n"
     ]
    },
    {
     "name": "stdin",
     "output_type": "stream",
     "text": [
      "ipdb>  n\n"
     ]
    },
    {
     "name": "stdout",
     "output_type": "stream",
     "text": [
      "> \u001b[0;32m/Users/fairliereese/Documents/programming/mortazavi_lab/bin/cerberus/cerberus/cerberus.py\u001b[0m(441)\u001b[0;36magg_2_ends\u001b[0;34m()\u001b[0m\n",
      "\u001b[0;32m    439 \u001b[0;31m    m_source.rename({'Start_new': 'Start',\n",
      "\u001b[0m\u001b[0;32m    440 \u001b[0;31m                     \u001b[0;34m'End_new'\u001b[0m\u001b[0;34m:\u001b[0m \u001b[0;34m'End'\u001b[0m\u001b[0;34m,\u001b[0m\u001b[0;34m\u001b[0m\u001b[0;34m\u001b[0m\u001b[0m\n",
      "\u001b[0m\u001b[0;32m--> 441 \u001b[0;31m                     'source_new': 'source'},\n",
      "\u001b[0m\u001b[0;32m    442 \u001b[0;31m                     axis=1, inplace=True)\n",
      "\u001b[0m\u001b[0;32m    443 \u001b[0;31m\u001b[0;34m\u001b[0m\u001b[0m\n",
      "\u001b[0m\n"
     ]
    },
    {
     "name": "stdin",
     "output_type": "stream",
     "text": [
      "ipdb>  n\n"
     ]
    },
    {
     "name": "stdout",
     "output_type": "stream",
     "text": [
      "> \u001b[0;32m/Users/fairliereese/Documents/programming/mortazavi_lab/bin/cerberus/cerberus/cerberus.py\u001b[0m(442)\u001b[0;36magg_2_ends\u001b[0;34m()\u001b[0m\n",
      "\u001b[0;32m    440 \u001b[0;31m                     \u001b[0;34m'End_new'\u001b[0m\u001b[0;34m:\u001b[0m \u001b[0;34m'End'\u001b[0m\u001b[0;34m,\u001b[0m\u001b[0;34m\u001b[0m\u001b[0;34m\u001b[0m\u001b[0m\n",
      "\u001b[0m\u001b[0;32m    441 \u001b[0;31m                     'source_new': 'source'},\n",
      "\u001b[0m\u001b[0;32m--> 442 \u001b[0;31m                     axis=1, inplace=True)\n",
      "\u001b[0m\u001b[0;32m    443 \u001b[0;31m\u001b[0;34m\u001b[0m\u001b[0m\n",
      "\u001b[0m\u001b[0;32m    444 \u001b[0;31m    \u001b[0;31m# situation 2: ends are only in the first dataset\u001b[0m\u001b[0;34m\u001b[0m\u001b[0;34m\u001b[0m\u001b[0;34m\u001b[0m\u001b[0m\n",
      "\u001b[0m\n"
     ]
    },
    {
     "name": "stdin",
     "output_type": "stream",
     "text": [
      "ipdb>  n\n"
     ]
    },
    {
     "name": "stdout",
     "output_type": "stream",
     "text": [
      "> \u001b[0;32m/Users/fairliereese/Documents/programming/mortazavi_lab/bin/cerberus/cerberus/cerberus.py\u001b[0m(445)\u001b[0;36magg_2_ends\u001b[0;34m()\u001b[0m\n",
      "\u001b[0;32m    443 \u001b[0;31m\u001b[0;34m\u001b[0m\u001b[0m\n",
      "\u001b[0m\u001b[0;32m    444 \u001b[0;31m    \u001b[0;31m# situation 2: ends are only in the first dataset\u001b[0m\u001b[0;34m\u001b[0m\u001b[0;34m\u001b[0m\u001b[0;34m\u001b[0m\u001b[0m\n",
      "\u001b[0m\u001b[0;32m--> 445 \u001b[0;31m    \u001b[0;32mif\u001b[0m \u001b[0mgid\u001b[0m\u001b[0;34m:\u001b[0m\u001b[0;34m\u001b[0m\u001b[0;34m\u001b[0m\u001b[0m\n",
      "\u001b[0m\u001b[0;32m    446 \u001b[0;31m        \u001b[0;31m# end either didn't match something or matched wrong gid\u001b[0m\u001b[0;34m\u001b[0m\u001b[0;34m\u001b[0m\u001b[0;34m\u001b[0m\u001b[0m\n",
      "\u001b[0m\u001b[0;32m    447 \u001b[0;31m        temp = temp_joined.loc[(temp_joined.Start_new.isnull())|\\\n",
      "\u001b[0m\n"
     ]
    },
    {
     "name": "stdin",
     "output_type": "stream",
     "text": [
      "ipdb>  m_source\n"
     ]
    },
    {
     "name": "stdout",
     "output_type": "stream",
     "text": [
      "  Chromosome  Start  End Strand source     Name\n",
      "0          1    5.0   10      +     v2  gene1_1\n",
      "1          1   20.0   25      +     v2  gene1_1\n",
      "2          1  120.0  140      +     v2  gene1_3\n",
      "4          1  750.0  775      +     v2  gene3_1\n",
      "6          1  750.0  775      +     v2  gene3_2\n"
     ]
    },
    {
     "name": "stdin",
     "output_type": "stream",
     "text": [
      "ipdb>  n\n"
     ]
    },
    {
     "name": "stdout",
     "output_type": "stream",
     "text": [
      "> \u001b[0;32m/Users/fairliereese/Documents/programming/mortazavi_lab/bin/cerberus/cerberus/cerberus.py\u001b[0m(447)\u001b[0;36magg_2_ends\u001b[0;34m()\u001b[0m\n",
      "\u001b[0;32m    445 \u001b[0;31m    \u001b[0;32mif\u001b[0m \u001b[0mgid\u001b[0m\u001b[0;34m:\u001b[0m\u001b[0;34m\u001b[0m\u001b[0;34m\u001b[0m\u001b[0m\n",
      "\u001b[0m\u001b[0;32m    446 \u001b[0;31m        \u001b[0;31m# end either didn't match something or matched wrong gid\u001b[0m\u001b[0;34m\u001b[0m\u001b[0;34m\u001b[0m\u001b[0;34m\u001b[0m\u001b[0m\n",
      "\u001b[0m\u001b[0;32m--> 447 \u001b[0;31m        temp = temp_joined.loc[(temp_joined.Start_new.isnull())|\\\n",
      "\u001b[0m\u001b[0;32m    448 \u001b[0;31m                               (temp_joined.gene_id!=temp_joined.gene_id_new)].copy(deep=True)\n",
      "\u001b[0m\u001b[0;32m    449 \u001b[0;31m\u001b[0;34m\u001b[0m\u001b[0m\n",
      "\u001b[0m\n"
     ]
    },
    {
     "name": "stdin",
     "output_type": "stream",
     "text": [
      "ipdb>  n\n"
     ]
    },
    {
     "name": "stdout",
     "output_type": "stream",
     "text": [
      "> \u001b[0;32m/Users/fairliereese/Documents/programming/mortazavi_lab/bin/cerberus/cerberus/cerberus.py\u001b[0m(448)\u001b[0;36magg_2_ends\u001b[0;34m()\u001b[0m\n",
      "\u001b[0;32m    446 \u001b[0;31m        \u001b[0;31m# end either didn't match something or matched wrong gid\u001b[0m\u001b[0;34m\u001b[0m\u001b[0;34m\u001b[0m\u001b[0;34m\u001b[0m\u001b[0m\n",
      "\u001b[0m\u001b[0;32m    447 \u001b[0;31m        temp = temp_joined.loc[(temp_joined.Start_new.isnull())|\\\n",
      "\u001b[0m\u001b[0;32m--> 448 \u001b[0;31m                               (temp_joined.gene_id!=temp_joined.gene_id_new)].copy(deep=True)\n",
      "\u001b[0m\u001b[0;32m    449 \u001b[0;31m\u001b[0;34m\u001b[0m\u001b[0m\n",
      "\u001b[0m\u001b[0;32m    450 \u001b[0;31m        \u001b[0;31m# restrict to ends that haven't been added to our main df\u001b[0m\u001b[0;34m\u001b[0m\u001b[0;34m\u001b[0m\u001b[0;34m\u001b[0m\u001b[0m\n",
      "\u001b[0m\n"
     ]
    },
    {
     "name": "stdin",
     "output_type": "stream",
     "text": [
      "ipdb>  n\n"
     ]
    },
    {
     "name": "stdout",
     "output_type": "stream",
     "text": [
      "> \u001b[0;32m/Users/fairliereese/Documents/programming/mortazavi_lab/bin/cerberus/cerberus/cerberus.py\u001b[0m(451)\u001b[0;36magg_2_ends\u001b[0;34m()\u001b[0m\n",
      "\u001b[0;32m    449 \u001b[0;31m\u001b[0;34m\u001b[0m\u001b[0m\n",
      "\u001b[0m\u001b[0;32m    450 \u001b[0;31m        \u001b[0;31m# restrict to ends that haven't been added to our main df\u001b[0m\u001b[0;34m\u001b[0m\u001b[0;34m\u001b[0m\u001b[0;34m\u001b[0m\u001b[0m\n",
      "\u001b[0m\u001b[0;32m--> 451 \u001b[0;31m        \u001b[0mtemp\u001b[0m \u001b[0;34m=\u001b[0m \u001b[0mtemp\u001b[0m\u001b[0;34m.\u001b[0m\u001b[0mloc\u001b[0m\u001b[0;34m[\u001b[0m\u001b[0;34m~\u001b[0m\u001b[0mtemp\u001b[0m\u001b[0;34m.\u001b[0m\u001b[0mName\u001b[0m\u001b[0;34m.\u001b[0m\u001b[0misin\u001b[0m\u001b[0;34m(\u001b[0m\u001b[0mdf\u001b[0m\u001b[0;34m.\u001b[0m\u001b[0mName\u001b[0m\u001b[0;34m.\u001b[0m\u001b[0mtolist\u001b[0m\u001b[0;34m(\u001b[0m\u001b[0;34m)\u001b[0m\u001b[0;34m)\u001b[0m\u001b[0;34m]\u001b[0m\u001b[0;34m\u001b[0m\u001b[0;34m\u001b[0m\u001b[0m\n",
      "\u001b[0m\u001b[0;32m    452 \u001b[0;31m\u001b[0;34m\u001b[0m\u001b[0m\n",
      "\u001b[0m\u001b[0;32m    453 \u001b[0;31m    \u001b[0;32melse\u001b[0m\u001b[0;34m:\u001b[0m\u001b[0;34m\u001b[0m\u001b[0;34m\u001b[0m\u001b[0m\n",
      "\u001b[0m\n"
     ]
    },
    {
     "name": "stdin",
     "output_type": "stream",
     "text": [
      "ipdb>  n\n"
     ]
    },
    {
     "name": "stdout",
     "output_type": "stream",
     "text": [
      "> \u001b[0;32m/Users/fairliereese/Documents/programming/mortazavi_lab/bin/cerberus/cerberus/cerberus.py\u001b[0m(455)\u001b[0;36magg_2_ends\u001b[0;34m()\u001b[0m\n",
      "\u001b[0;32m    453 \u001b[0;31m    \u001b[0;32melse\u001b[0m\u001b[0;34m:\u001b[0m\u001b[0;34m\u001b[0m\u001b[0;34m\u001b[0m\u001b[0m\n",
      "\u001b[0m\u001b[0;32m    454 \u001b[0;31m        \u001b[0mtemp\u001b[0m \u001b[0;34m=\u001b[0m \u001b[0mtemp_joined\u001b[0m\u001b[0;34m.\u001b[0m\u001b[0mloc\u001b[0m\u001b[0;34m[\u001b[0m\u001b[0mtemp_joined\u001b[0m\u001b[0;34m.\u001b[0m\u001b[0mStart_new\u001b[0m\u001b[0;34m.\u001b[0m\u001b[0misnull\u001b[0m\u001b[0;34m(\u001b[0m\u001b[0;34m)\u001b[0m\u001b[0;34m]\u001b[0m\u001b[0;34m.\u001b[0m\u001b[0mcopy\u001b[0m\u001b[0;34m(\u001b[0m\u001b[0mdeep\u001b[0m\u001b[0;34m=\u001b[0m\u001b[0;32mTrue\u001b[0m\u001b[0;34m)\u001b[0m\u001b[0;34m\u001b[0m\u001b[0;34m\u001b[0m\u001b[0m\n",
      "\u001b[0m\u001b[0;32m--> 455 \u001b[0;31m    \u001b[0mdf\u001b[0m \u001b[0;34m=\u001b[0m \u001b[0mpd\u001b[0m\u001b[0;34m.\u001b[0m\u001b[0mconcat\u001b[0m\u001b[0;34m(\u001b[0m\u001b[0;34m[\u001b[0m\u001b[0mdf\u001b[0m\u001b[0;34m,\u001b[0m \u001b[0mtemp\u001b[0m\u001b[0;34m]\u001b[0m\u001b[0;34m)\u001b[0m\u001b[0;34m\u001b[0m\u001b[0;34m\u001b[0m\u001b[0m\n",
      "\u001b[0m\u001b[0;32m    456 \u001b[0;31m\u001b[0;34m\u001b[0m\u001b[0m\n",
      "\u001b[0m\u001b[0;32m    457 \u001b[0;31m    \u001b[0;31m# pdb.set_trace()\u001b[0m\u001b[0;34m\u001b[0m\u001b[0;34m\u001b[0m\u001b[0;34m\u001b[0m\u001b[0m\n",
      "\u001b[0m\n"
     ]
    },
    {
     "name": "stdin",
     "output_type": "stream",
     "text": [
      "ipdb>  temp[['Start', 'End', 'gene_id', 'Start_new', 'End_new', 'gene_id_new']]\n"
     ]
    },
    {
     "name": "stdout",
     "output_type": "stream",
     "text": [
      "   Start  End gene_id  Start_new  End_new gene_id_new\n",
      "3    200  250   gene1      200.0      250       gene2\n",
      "8    300  340   gene1        NaN       -1          -1\n"
     ]
    },
    {
     "name": "stdin",
     "output_type": "stream",
     "text": [
      "ipdb>  df['Start', 'End', 'gene_id', 'Start_new', 'End_new', 'gene_id_new']\n"
     ]
    },
    {
     "name": "stdout",
     "output_type": "stream",
     "text": [
      "*** KeyError: ('Start', 'End', 'gene_id', 'Start_new', 'End_new', 'gene_id_new')\n"
     ]
    },
    {
     "name": "stdin",
     "output_type": "stream",
     "text": [
      "ipdb>  df[['Start', 'End', 'gene_id', 'Start_new', 'End_new', 'gene_id_new']]\n"
     ]
    },
    {
     "name": "stdout",
     "output_type": "stream",
     "text": [
      "   Start  End gene_id  Start_new  End_new gene_id_new\n",
      "0      1   15   gene1        5.0       10       gene1\n",
      "1      1   15   gene1       20.0       25       gene1\n",
      "2    100  110   gene1      120.0      140       gene1\n",
      "4    700  750   gene3      750.0      775       gene3\n",
      "6    760  770   gene3      750.0      775       gene3\n"
     ]
    },
    {
     "name": "stdin",
     "output_type": "stream",
     "text": [
      "ipdb>  temp[['Start', 'End', 'gene_id', 'Start_new', 'End_new', 'gene_id_new']]\n"
     ]
    },
    {
     "name": "stdout",
     "output_type": "stream",
     "text": [
      "   Start  End gene_id  Start_new  End_new gene_id_new\n",
      "3    200  250   gene1      200.0      250       gene2\n",
      "8    300  340   gene1        NaN       -1          -1\n"
     ]
    },
    {
     "name": "stdin",
     "output_type": "stream",
     "text": [
      "ipdb>  n\n"
     ]
    },
    {
     "name": "stdout",
     "output_type": "stream",
     "text": [
      "> \u001b[0;32m/Users/fairliereese/Documents/programming/mortazavi_lab/bin/cerberus/cerberus/cerberus.py\u001b[0m(461)\u001b[0;36magg_2_ends\u001b[0;34m()\u001b[0m\n",
      "\u001b[0;32m    459 \u001b[0;31m\u001b[0;34m\u001b[0m\u001b[0m\n",
      "\u001b[0m\u001b[0;32m    460 \u001b[0;31m    \u001b[0;31m# restrict to relevant columns\u001b[0m\u001b[0;34m\u001b[0m\u001b[0;34m\u001b[0m\u001b[0;34m\u001b[0m\u001b[0m\n",
      "\u001b[0m\u001b[0;32m--> 461 \u001b[0;31m    cols = ['Chromosome', 'Start', 'End', 'Strand',\n",
      "\u001b[0m\u001b[0;32m    462 \u001b[0;31m            'Name', 'gene_id', 'source', mode, 'id_new']\n",
      "\u001b[0m\u001b[0;32m    463 \u001b[0;31m    \u001b[0mdf\u001b[0m \u001b[0;34m=\u001b[0m \u001b[0mdf\u001b[0m\u001b[0;34m[\u001b[0m\u001b[0mcols\u001b[0m\u001b[0;34m]\u001b[0m\u001b[0;34m\u001b[0m\u001b[0;34m\u001b[0m\u001b[0m\n",
      "\u001b[0m\n"
     ]
    },
    {
     "name": "stdin",
     "output_type": "stream",
     "text": [
      "ipdb>  n\n"
     ]
    },
    {
     "name": "stdout",
     "output_type": "stream",
     "text": [
      "> \u001b[0;32m/Users/fairliereese/Documents/programming/mortazavi_lab/bin/cerberus/cerberus/cerberus.py\u001b[0m(462)\u001b[0;36magg_2_ends\u001b[0;34m()\u001b[0m\n",
      "\u001b[0;32m    460 \u001b[0;31m    \u001b[0;31m# restrict to relevant columns\u001b[0m\u001b[0;34m\u001b[0m\u001b[0;34m\u001b[0m\u001b[0;34m\u001b[0m\u001b[0m\n",
      "\u001b[0m\u001b[0;32m    461 \u001b[0;31m    cols = ['Chromosome', 'Start', 'End', 'Strand',\n",
      "\u001b[0m\u001b[0;32m--> 462 \u001b[0;31m            'Name', 'gene_id', 'source', mode, 'id_new']\n",
      "\u001b[0m\u001b[0;32m    463 \u001b[0;31m    \u001b[0mdf\u001b[0m \u001b[0;34m=\u001b[0m \u001b[0mdf\u001b[0m\u001b[0;34m[\u001b[0m\u001b[0mcols\u001b[0m\u001b[0;34m]\u001b[0m\u001b[0;34m\u001b[0m\u001b[0;34m\u001b[0m\u001b[0m\n",
      "\u001b[0m\u001b[0;32m    464 \u001b[0;31m    \u001b[0mdf\u001b[0m\u001b[0;34m.\u001b[0m\u001b[0mrename\u001b[0m\u001b[0;34m(\u001b[0m\u001b[0;34m{\u001b[0m\u001b[0;34m'id_new'\u001b[0m\u001b[0;34m:\u001b[0m \u001b[0;34m'id'\u001b[0m\u001b[0;34m}\u001b[0m\u001b[0;34m,\u001b[0m \u001b[0maxis\u001b[0m\u001b[0;34m=\u001b[0m\u001b[0;36m1\u001b[0m\u001b[0;34m,\u001b[0m \u001b[0minplace\u001b[0m\u001b[0;34m=\u001b[0m\u001b[0;32mTrue\u001b[0m\u001b[0;34m)\u001b[0m\u001b[0;34m\u001b[0m\u001b[0;34m\u001b[0m\u001b[0m\n",
      "\u001b[0m\n"
     ]
    },
    {
     "name": "stdin",
     "output_type": "stream",
     "text": [
      "ipdb>  n\n"
     ]
    },
    {
     "name": "stdout",
     "output_type": "stream",
     "text": [
      "> \u001b[0;32m/Users/fairliereese/Documents/programming/mortazavi_lab/bin/cerberus/cerberus/cerberus.py\u001b[0m(463)\u001b[0;36magg_2_ends\u001b[0;34m()\u001b[0m\n",
      "\u001b[0;32m    461 \u001b[0;31m    cols = ['Chromosome', 'Start', 'End', 'Strand',\n",
      "\u001b[0m\u001b[0;32m    462 \u001b[0;31m            'Name', 'gene_id', 'source', mode, 'id_new']\n",
      "\u001b[0m\u001b[0;32m--> 463 \u001b[0;31m    \u001b[0mdf\u001b[0m \u001b[0;34m=\u001b[0m \u001b[0mdf\u001b[0m\u001b[0;34m[\u001b[0m\u001b[0mcols\u001b[0m\u001b[0;34m]\u001b[0m\u001b[0;34m\u001b[0m\u001b[0;34m\u001b[0m\u001b[0m\n",
      "\u001b[0m\u001b[0;32m    464 \u001b[0;31m    \u001b[0mdf\u001b[0m\u001b[0;34m.\u001b[0m\u001b[0mrename\u001b[0m\u001b[0;34m(\u001b[0m\u001b[0;34m{\u001b[0m\u001b[0;34m'id_new'\u001b[0m\u001b[0;34m:\u001b[0m \u001b[0;34m'id'\u001b[0m\u001b[0;34m}\u001b[0m\u001b[0;34m,\u001b[0m \u001b[0maxis\u001b[0m\u001b[0;34m=\u001b[0m\u001b[0;36m1\u001b[0m\u001b[0;34m,\u001b[0m \u001b[0minplace\u001b[0m\u001b[0;34m=\u001b[0m\u001b[0;32mTrue\u001b[0m\u001b[0;34m)\u001b[0m\u001b[0;34m\u001b[0m\u001b[0;34m\u001b[0m\u001b[0m\n",
      "\u001b[0m\u001b[0;32m    465 \u001b[0;31m\u001b[0;34m\u001b[0m\u001b[0m\n",
      "\u001b[0m\n"
     ]
    },
    {
     "name": "stdin",
     "output_type": "stream",
     "text": [
      "ipdb>  n\n"
     ]
    },
    {
     "name": "stdout",
     "output_type": "stream",
     "text": [
      "> \u001b[0;32m/Users/fairliereese/Documents/programming/mortazavi_lab/bin/cerberus/cerberus/cerberus.py\u001b[0m(464)\u001b[0;36magg_2_ends\u001b[0;34m()\u001b[0m\n",
      "\u001b[0;32m    462 \u001b[0;31m            'Name', 'gene_id', 'source', mode, 'id_new']\n",
      "\u001b[0m\u001b[0;32m    463 \u001b[0;31m    \u001b[0mdf\u001b[0m \u001b[0;34m=\u001b[0m \u001b[0mdf\u001b[0m\u001b[0;34m[\u001b[0m\u001b[0mcols\u001b[0m\u001b[0;34m]\u001b[0m\u001b[0;34m\u001b[0m\u001b[0;34m\u001b[0m\u001b[0m\n",
      "\u001b[0m\u001b[0;32m--> 464 \u001b[0;31m    \u001b[0mdf\u001b[0m\u001b[0;34m.\u001b[0m\u001b[0mrename\u001b[0m\u001b[0;34m(\u001b[0m\u001b[0;34m{\u001b[0m\u001b[0;34m'id_new'\u001b[0m\u001b[0;34m:\u001b[0m \u001b[0;34m'id'\u001b[0m\u001b[0;34m}\u001b[0m\u001b[0;34m,\u001b[0m \u001b[0maxis\u001b[0m\u001b[0;34m=\u001b[0m\u001b[0;36m1\u001b[0m\u001b[0;34m,\u001b[0m \u001b[0minplace\u001b[0m\u001b[0;34m=\u001b[0m\u001b[0;32mTrue\u001b[0m\u001b[0;34m)\u001b[0m\u001b[0;34m\u001b[0m\u001b[0;34m\u001b[0m\u001b[0m\n",
      "\u001b[0m\u001b[0;32m    465 \u001b[0;31m\u001b[0;34m\u001b[0m\u001b[0m\n",
      "\u001b[0m\u001b[0;32m    466 \u001b[0;31m    \u001b[0;31m### new ends, only add if we're allowing them to be independent\u001b[0m\u001b[0;34m\u001b[0m\u001b[0;34m\u001b[0m\u001b[0;34m\u001b[0m\u001b[0m\n",
      "\u001b[0m\n"
     ]
    },
    {
     "name": "stdin",
     "output_type": "stream",
     "text": [
      "ipdb>  n\n"
     ]
    },
    {
     "name": "stdout",
     "output_type": "stream",
     "text": [
      "> \u001b[0;32m/Users/fairliereese/Documents/programming/mortazavi_lab/bin/cerberus/cerberus/cerberus.py\u001b[0m(468)\u001b[0;36magg_2_ends\u001b[0;34m()\u001b[0m\n",
      "\u001b[0;32m    466 \u001b[0;31m    \u001b[0;31m### new ends, only add if we're allowing them to be independent\u001b[0m\u001b[0;34m\u001b[0m\u001b[0;34m\u001b[0m\u001b[0;34m\u001b[0m\u001b[0m\n",
      "\u001b[0m\u001b[0;32m    467 \u001b[0;31m    \u001b[0;31m### end support\u001b[0m\u001b[0;34m\u001b[0m\u001b[0;34m\u001b[0m\u001b[0;34m\u001b[0m\u001b[0m\n",
      "\u001b[0m\u001b[0;32m--> 468 \u001b[0;31m    \u001b[0;32mif\u001b[0m \u001b[0madd_ends\u001b[0m \u001b[0;32mand\u001b[0m \u001b[0mstrand\u001b[0m \u001b[0;32mand\u001b[0m \u001b[0mgid\u001b[0m\u001b[0;34m:\u001b[0m\u001b[0;34m\u001b[0m\u001b[0;34m\u001b[0m\u001b[0m\n",
      "\u001b[0m\u001b[0;32m    469 \u001b[0;31m\u001b[0;34m\u001b[0m\u001b[0m\n",
      "\u001b[0m\u001b[0;32m    470 \u001b[0;31m        \u001b[0mnew_df\u001b[0m \u001b[0;34m=\u001b[0m \u001b[0mpd\u001b[0m\u001b[0;34m.\u001b[0m\u001b[0mDataFrame\u001b[0m\u001b[0;34m(\u001b[0m\u001b[0;34m)\u001b[0m\u001b[0;34m\u001b[0m\u001b[0;34m\u001b[0m\u001b[0m\n",
      "\u001b[0m\n"
     ]
    },
    {
     "name": "stdin",
     "output_type": "stream",
     "text": [
      "ipdb>  n\n"
     ]
    },
    {
     "name": "stdout",
     "output_type": "stream",
     "text": [
      "> \u001b[0;32m/Users/fairliereese/Documents/programming/mortazavi_lab/bin/cerberus/cerberus/cerberus.py\u001b[0m(470)\u001b[0;36magg_2_ends\u001b[0;34m()\u001b[0m\n",
      "\u001b[0;32m    468 \u001b[0;31m    \u001b[0;32mif\u001b[0m \u001b[0madd_ends\u001b[0m \u001b[0;32mand\u001b[0m \u001b[0mstrand\u001b[0m \u001b[0;32mand\u001b[0m \u001b[0mgid\u001b[0m\u001b[0;34m:\u001b[0m\u001b[0;34m\u001b[0m\u001b[0;34m\u001b[0m\u001b[0m\n",
      "\u001b[0m\u001b[0;32m    469 \u001b[0;31m\u001b[0;34m\u001b[0m\u001b[0m\n",
      "\u001b[0m\u001b[0;32m--> 470 \u001b[0;31m        \u001b[0mnew_df\u001b[0m \u001b[0;34m=\u001b[0m \u001b[0mpd\u001b[0m\u001b[0;34m.\u001b[0m\u001b[0mDataFrame\u001b[0m\u001b[0;34m(\u001b[0m\u001b[0;34m)\u001b[0m\u001b[0;34m\u001b[0m\u001b[0;34m\u001b[0m\u001b[0m\n",
      "\u001b[0m\u001b[0;32m    471 \u001b[0;31m\u001b[0;34m\u001b[0m\u001b[0m\n",
      "\u001b[0m\u001b[0;32m    472 \u001b[0;31m        \u001b[0mdrop_cols\u001b[0m \u001b[0;34m=\u001b[0m \u001b[0;34m[\u001b[0m\u001b[0;34m'Start'\u001b[0m\u001b[0;34m,\u001b[0m \u001b[0;34m'End'\u001b[0m\u001b[0;34m,\u001b[0m \u001b[0;34m'Strand'\u001b[0m\u001b[0;34m,\u001b[0m \u001b[0;34m'gene_id'\u001b[0m\u001b[0;34m,\u001b[0m \u001b[0;34m'source'\u001b[0m\u001b[0;34m,\u001b[0m \u001b[0;34m'Name'\u001b[0m\u001b[0;34m,\u001b[0m \u001b[0mmode\u001b[0m\u001b[0;34m]\u001b[0m\u001b[0;34m\u001b[0m\u001b[0;34m\u001b[0m\u001b[0m\n",
      "\u001b[0m\n"
     ]
    },
    {
     "name": "stdin",
     "output_type": "stream",
     "text": [
      "ipdb>  n\n"
     ]
    },
    {
     "name": "stdout",
     "output_type": "stream",
     "text": [
      "> \u001b[0;32m/Users/fairliereese/Documents/programming/mortazavi_lab/bin/cerberus/cerberus/cerberus.py\u001b[0m(472)\u001b[0;36magg_2_ends\u001b[0;34m()\u001b[0m\n",
      "\u001b[0;32m    470 \u001b[0;31m        \u001b[0mnew_df\u001b[0m \u001b[0;34m=\u001b[0m \u001b[0mpd\u001b[0m\u001b[0;34m.\u001b[0m\u001b[0mDataFrame\u001b[0m\u001b[0;34m(\u001b[0m\u001b[0;34m)\u001b[0m\u001b[0;34m\u001b[0m\u001b[0;34m\u001b[0m\u001b[0m\n",
      "\u001b[0m\u001b[0;32m    471 \u001b[0;31m\u001b[0;34m\u001b[0m\u001b[0m\n",
      "\u001b[0m\u001b[0;32m--> 472 \u001b[0;31m        \u001b[0mdrop_cols\u001b[0m \u001b[0;34m=\u001b[0m \u001b[0;34m[\u001b[0m\u001b[0;34m'Start'\u001b[0m\u001b[0;34m,\u001b[0m \u001b[0;34m'End'\u001b[0m\u001b[0;34m,\u001b[0m \u001b[0;34m'Strand'\u001b[0m\u001b[0;34m,\u001b[0m \u001b[0;34m'gene_id'\u001b[0m\u001b[0;34m,\u001b[0m \u001b[0;34m'source'\u001b[0m\u001b[0;34m,\u001b[0m \u001b[0;34m'Name'\u001b[0m\u001b[0;34m,\u001b[0m \u001b[0mmode\u001b[0m\u001b[0;34m]\u001b[0m\u001b[0;34m\u001b[0m\u001b[0;34m\u001b[0m\u001b[0m\n",
      "\u001b[0m\u001b[0;32m    473 \u001b[0;31m        m = {'Start_new': 'Start',\n",
      "\u001b[0m\u001b[0;32m    474 \u001b[0;31m             \u001b[0;34m'End_new'\u001b[0m\u001b[0;34m:\u001b[0m \u001b[0;34m'End'\u001b[0m\u001b[0;34m,\u001b[0m\u001b[0;34m\u001b[0m\u001b[0;34m\u001b[0m\u001b[0m\n",
      "\u001b[0m\n"
     ]
    },
    {
     "name": "stdin",
     "output_type": "stream",
     "text": [
      "ipdb>  n\n"
     ]
    },
    {
     "name": "stdout",
     "output_type": "stream",
     "text": [
      "> \u001b[0;32m/Users/fairliereese/Documents/programming/mortazavi_lab/bin/cerberus/cerberus/cerberus.py\u001b[0m(473)\u001b[0;36magg_2_ends\u001b[0;34m()\u001b[0m\n",
      "\u001b[0;32m    471 \u001b[0;31m\u001b[0;34m\u001b[0m\u001b[0m\n",
      "\u001b[0m\u001b[0;32m    472 \u001b[0;31m        \u001b[0mdrop_cols\u001b[0m \u001b[0;34m=\u001b[0m \u001b[0;34m[\u001b[0m\u001b[0;34m'Start'\u001b[0m\u001b[0;34m,\u001b[0m \u001b[0;34m'End'\u001b[0m\u001b[0;34m,\u001b[0m \u001b[0;34m'Strand'\u001b[0m\u001b[0;34m,\u001b[0m \u001b[0;34m'gene_id'\u001b[0m\u001b[0;34m,\u001b[0m \u001b[0;34m'source'\u001b[0m\u001b[0;34m,\u001b[0m \u001b[0;34m'Name'\u001b[0m\u001b[0;34m,\u001b[0m \u001b[0mmode\u001b[0m\u001b[0;34m]\u001b[0m\u001b[0;34m\u001b[0m\u001b[0;34m\u001b[0m\u001b[0m\n",
      "\u001b[0m\u001b[0;32m--> 473 \u001b[0;31m        m = {'Start_new': 'Start',\n",
      "\u001b[0m\u001b[0;32m    474 \u001b[0;31m             \u001b[0;34m'End_new'\u001b[0m\u001b[0;34m:\u001b[0m \u001b[0;34m'End'\u001b[0m\u001b[0;34m,\u001b[0m\u001b[0;34m\u001b[0m\u001b[0;34m\u001b[0m\u001b[0m\n",
      "\u001b[0m\u001b[0;32m    475 \u001b[0;31m             \u001b[0;34m'gene_id_new'\u001b[0m\u001b[0;34m:\u001b[0m \u001b[0;34m'gene_id'\u001b[0m\u001b[0;34m,\u001b[0m\u001b[0;34m\u001b[0m\u001b[0;34m\u001b[0m\u001b[0m\n",
      "\u001b[0m\n"
     ]
    },
    {
     "name": "stdin",
     "output_type": "stream",
     "text": [
      "ipdb>  n\n"
     ]
    },
    {
     "name": "stdout",
     "output_type": "stream",
     "text": [
      "> \u001b[0;32m/Users/fairliereese/Documents/programming/mortazavi_lab/bin/cerberus/cerberus/cerberus.py\u001b[0m(474)\u001b[0;36magg_2_ends\u001b[0;34m()\u001b[0m\n",
      "\u001b[0;32m    472 \u001b[0;31m        \u001b[0mdrop_cols\u001b[0m \u001b[0;34m=\u001b[0m \u001b[0;34m[\u001b[0m\u001b[0;34m'Start'\u001b[0m\u001b[0;34m,\u001b[0m \u001b[0;34m'End'\u001b[0m\u001b[0;34m,\u001b[0m \u001b[0;34m'Strand'\u001b[0m\u001b[0;34m,\u001b[0m \u001b[0;34m'gene_id'\u001b[0m\u001b[0;34m,\u001b[0m \u001b[0;34m'source'\u001b[0m\u001b[0;34m,\u001b[0m \u001b[0;34m'Name'\u001b[0m\u001b[0;34m,\u001b[0m \u001b[0mmode\u001b[0m\u001b[0;34m]\u001b[0m\u001b[0;34m\u001b[0m\u001b[0;34m\u001b[0m\u001b[0m\n",
      "\u001b[0m\u001b[0;32m    473 \u001b[0;31m        m = {'Start_new': 'Start',\n",
      "\u001b[0m\u001b[0;32m--> 474 \u001b[0;31m             \u001b[0;34m'End_new'\u001b[0m\u001b[0;34m:\u001b[0m \u001b[0;34m'End'\u001b[0m\u001b[0;34m,\u001b[0m\u001b[0;34m\u001b[0m\u001b[0;34m\u001b[0m\u001b[0m\n",
      "\u001b[0m\u001b[0;32m    475 \u001b[0;31m             \u001b[0;34m'gene_id_new'\u001b[0m\u001b[0;34m:\u001b[0m \u001b[0;34m'gene_id'\u001b[0m\u001b[0;34m,\u001b[0m\u001b[0;34m\u001b[0m\u001b[0;34m\u001b[0m\u001b[0m\n",
      "\u001b[0m\u001b[0;32m    476 \u001b[0;31m             \u001b[0;34m'Strand_new'\u001b[0m\u001b[0;34m:\u001b[0m \u001b[0;34m'Strand'\u001b[0m\u001b[0;34m,\u001b[0m\u001b[0;34m\u001b[0m\u001b[0;34m\u001b[0m\u001b[0m\n",
      "\u001b[0m\n"
     ]
    },
    {
     "name": "stdin",
     "output_type": "stream",
     "text": [
      "ipdb>  n\n"
     ]
    },
    {
     "name": "stdout",
     "output_type": "stream",
     "text": [
      "> \u001b[0;32m/Users/fairliereese/Documents/programming/mortazavi_lab/bin/cerberus/cerberus/cerberus.py\u001b[0m(475)\u001b[0;36magg_2_ends\u001b[0;34m()\u001b[0m\n",
      "\u001b[0;32m    473 \u001b[0;31m        m = {'Start_new': 'Start',\n",
      "\u001b[0m\u001b[0;32m    474 \u001b[0;31m             \u001b[0;34m'End_new'\u001b[0m\u001b[0;34m:\u001b[0m \u001b[0;34m'End'\u001b[0m\u001b[0;34m,\u001b[0m\u001b[0;34m\u001b[0m\u001b[0;34m\u001b[0m\u001b[0m\n",
      "\u001b[0m\u001b[0;32m--> 475 \u001b[0;31m             \u001b[0;34m'gene_id_new'\u001b[0m\u001b[0;34m:\u001b[0m \u001b[0;34m'gene_id'\u001b[0m\u001b[0;34m,\u001b[0m\u001b[0;34m\u001b[0m\u001b[0;34m\u001b[0m\u001b[0m\n",
      "\u001b[0m\u001b[0;32m    476 \u001b[0;31m             \u001b[0;34m'Strand_new'\u001b[0m\u001b[0;34m:\u001b[0m \u001b[0;34m'Strand'\u001b[0m\u001b[0;34m,\u001b[0m\u001b[0;34m\u001b[0m\u001b[0;34m\u001b[0m\u001b[0m\n",
      "\u001b[0m\u001b[0;32m    477 \u001b[0;31m             \u001b[0;34m'source_new'\u001b[0m\u001b[0;34m:\u001b[0m \u001b[0;34m'source'\u001b[0m\u001b[0;34m,\u001b[0m\u001b[0;34m\u001b[0m\u001b[0;34m\u001b[0m\u001b[0m\n",
      "\u001b[0m\n"
     ]
    },
    {
     "name": "stdin",
     "output_type": "stream",
     "text": [
      "ipdb>  n\n"
     ]
    },
    {
     "name": "stdout",
     "output_type": "stream",
     "text": [
      "> \u001b[0;32m/Users/fairliereese/Documents/programming/mortazavi_lab/bin/cerberus/cerberus/cerberus.py\u001b[0m(476)\u001b[0;36magg_2_ends\u001b[0;34m()\u001b[0m\n",
      "\u001b[0;32m    474 \u001b[0;31m             \u001b[0;34m'End_new'\u001b[0m\u001b[0;34m:\u001b[0m \u001b[0;34m'End'\u001b[0m\u001b[0;34m,\u001b[0m\u001b[0;34m\u001b[0m\u001b[0;34m\u001b[0m\u001b[0m\n",
      "\u001b[0m\u001b[0;32m    475 \u001b[0;31m             \u001b[0;34m'gene_id_new'\u001b[0m\u001b[0;34m:\u001b[0m \u001b[0;34m'gene_id'\u001b[0m\u001b[0;34m,\u001b[0m\u001b[0;34m\u001b[0m\u001b[0;34m\u001b[0m\u001b[0m\n",
      "\u001b[0m\u001b[0;32m--> 476 \u001b[0;31m             \u001b[0;34m'Strand_new'\u001b[0m\u001b[0;34m:\u001b[0m \u001b[0;34m'Strand'\u001b[0m\u001b[0;34m,\u001b[0m\u001b[0;34m\u001b[0m\u001b[0;34m\u001b[0m\u001b[0m\n",
      "\u001b[0m\u001b[0;32m    477 \u001b[0;31m             \u001b[0;34m'source_new'\u001b[0m\u001b[0;34m:\u001b[0m \u001b[0;34m'source'\u001b[0m\u001b[0;34m,\u001b[0m\u001b[0;34m\u001b[0m\u001b[0;34m\u001b[0m\u001b[0m\n",
      "\u001b[0m\u001b[0;32m    478 \u001b[0;31m             \u001b[0;34m'Name_new'\u001b[0m\u001b[0;34m:\u001b[0m \u001b[0;34m'Name'\u001b[0m\u001b[0;34m,\u001b[0m\u001b[0;34m\u001b[0m\u001b[0;34m\u001b[0m\u001b[0m\n",
      "\u001b[0m\n"
     ]
    },
    {
     "name": "stdin",
     "output_type": "stream",
     "text": [
      "ipdb>  n\n"
     ]
    },
    {
     "name": "stdout",
     "output_type": "stream",
     "text": [
      "> \u001b[0;32m/Users/fairliereese/Documents/programming/mortazavi_lab/bin/cerberus/cerberus/cerberus.py\u001b[0m(477)\u001b[0;36magg_2_ends\u001b[0;34m()\u001b[0m\n",
      "\u001b[0;32m    475 \u001b[0;31m             \u001b[0;34m'gene_id_new'\u001b[0m\u001b[0;34m:\u001b[0m \u001b[0;34m'gene_id'\u001b[0m\u001b[0;34m,\u001b[0m\u001b[0;34m\u001b[0m\u001b[0;34m\u001b[0m\u001b[0m\n",
      "\u001b[0m\u001b[0;32m    476 \u001b[0;31m             \u001b[0;34m'Strand_new'\u001b[0m\u001b[0;34m:\u001b[0m \u001b[0;34m'Strand'\u001b[0m\u001b[0;34m,\u001b[0m\u001b[0;34m\u001b[0m\u001b[0;34m\u001b[0m\u001b[0m\n",
      "\u001b[0m\u001b[0;32m--> 477 \u001b[0;31m             \u001b[0;34m'source_new'\u001b[0m\u001b[0;34m:\u001b[0m \u001b[0;34m'source'\u001b[0m\u001b[0;34m,\u001b[0m\u001b[0;34m\u001b[0m\u001b[0;34m\u001b[0m\u001b[0m\n",
      "\u001b[0m\u001b[0;32m    478 \u001b[0;31m             \u001b[0;34m'Name_new'\u001b[0m\u001b[0;34m:\u001b[0m \u001b[0;34m'Name'\u001b[0m\u001b[0;34m,\u001b[0m\u001b[0;34m\u001b[0m\u001b[0;34m\u001b[0m\u001b[0m\n",
      "\u001b[0m\u001b[0;32m    479 \u001b[0;31m             new_c: mode}\n",
      "\u001b[0m\n"
     ]
    },
    {
     "name": "stdin",
     "output_type": "stream",
     "text": [
      "ipdb>  \n"
     ]
    },
    {
     "name": "stdout",
     "output_type": "stream",
     "text": [
      "> \u001b[0;32m/Users/fairliereese/Documents/programming/mortazavi_lab/bin/cerberus/cerberus/cerberus.py\u001b[0m(478)\u001b[0;36magg_2_ends\u001b[0;34m()\u001b[0m\n",
      "\u001b[0;32m    476 \u001b[0;31m             \u001b[0;34m'Strand_new'\u001b[0m\u001b[0;34m:\u001b[0m \u001b[0;34m'Strand'\u001b[0m\u001b[0;34m,\u001b[0m\u001b[0;34m\u001b[0m\u001b[0;34m\u001b[0m\u001b[0m\n",
      "\u001b[0m\u001b[0;32m    477 \u001b[0;31m             \u001b[0;34m'source_new'\u001b[0m\u001b[0;34m:\u001b[0m \u001b[0;34m'source'\u001b[0m\u001b[0;34m,\u001b[0m\u001b[0;34m\u001b[0m\u001b[0;34m\u001b[0m\u001b[0m\n",
      "\u001b[0m\u001b[0;32m--> 478 \u001b[0;31m             \u001b[0;34m'Name_new'\u001b[0m\u001b[0;34m:\u001b[0m \u001b[0;34m'Name'\u001b[0m\u001b[0;34m,\u001b[0m\u001b[0;34m\u001b[0m\u001b[0;34m\u001b[0m\u001b[0m\n",
      "\u001b[0m\u001b[0;32m    479 \u001b[0;31m             new_c: mode}\n",
      "\u001b[0m\u001b[0;32m    480 \u001b[0;31m\u001b[0;34m\u001b[0m\u001b[0m\n",
      "\u001b[0m\n"
     ]
    },
    {
     "name": "stdin",
     "output_type": "stream",
     "text": [
      "ipdb>  \n"
     ]
    },
    {
     "name": "stdout",
     "output_type": "stream",
     "text": [
      "> \u001b[0;32m/Users/fairliereese/Documents/programming/mortazavi_lab/bin/cerberus/cerberus/cerberus.py\u001b[0m(479)\u001b[0;36magg_2_ends\u001b[0;34m()\u001b[0m\n",
      "\u001b[0;32m    477 \u001b[0;31m             \u001b[0;34m'source_new'\u001b[0m\u001b[0;34m:\u001b[0m \u001b[0;34m'source'\u001b[0m\u001b[0;34m,\u001b[0m\u001b[0;34m\u001b[0m\u001b[0;34m\u001b[0m\u001b[0m\n",
      "\u001b[0m\u001b[0;32m    478 \u001b[0;31m             \u001b[0;34m'Name_new'\u001b[0m\u001b[0;34m:\u001b[0m \u001b[0;34m'Name'\u001b[0m\u001b[0;34m,\u001b[0m\u001b[0;34m\u001b[0m\u001b[0;34m\u001b[0m\u001b[0m\n",
      "\u001b[0m\u001b[0;32m--> 479 \u001b[0;31m             new_c: mode}\n",
      "\u001b[0m\u001b[0;32m    480 \u001b[0;31m\u001b[0;34m\u001b[0m\u001b[0m\n",
      "\u001b[0m\u001b[0;32m    481 \u001b[0;31m        \u001b[0;31m# situation 3: the ends overlapped, but the gene ids didn't match\u001b[0m\u001b[0;34m\u001b[0m\u001b[0;34m\u001b[0m\u001b[0;34m\u001b[0m\u001b[0m\n",
      "\u001b[0m\n"
     ]
    },
    {
     "name": "stdin",
     "output_type": "stream",
     "text": [
      "ipdb>  n\n"
     ]
    },
    {
     "name": "stdout",
     "output_type": "stream",
     "text": [
      "> \u001b[0;32m/Users/fairliereese/Documents/programming/mortazavi_lab/bin/cerberus/cerberus/cerberus.py\u001b[0m(482)\u001b[0;36magg_2_ends\u001b[0;34m()\u001b[0m\n",
      "\u001b[0;32m    480 \u001b[0;31m\u001b[0;34m\u001b[0m\u001b[0m\n",
      "\u001b[0m\u001b[0;32m    481 \u001b[0;31m        \u001b[0;31m# situation 3: the ends overlapped, but the gene ids didn't match\u001b[0m\u001b[0;34m\u001b[0m\u001b[0;34m\u001b[0m\u001b[0;34m\u001b[0m\u001b[0m\n",
      "\u001b[0m\u001b[0;32m--> 482 \u001b[0;31m        temp = temp_joined.loc[(temp_joined.gene_id!=temp_joined.gene_id_new)&\\\n",
      "\u001b[0m\u001b[0;32m    483 \u001b[0;31m                               (temp_joined.gene_id_new!='-1')].copy(deep=True)\n",
      "\u001b[0m\u001b[0;32m    484 \u001b[0;31m        \u001b[0;31m# pdb.set_trace()\u001b[0m\u001b[0;34m\u001b[0m\u001b[0;34m\u001b[0m\u001b[0;34m\u001b[0m\u001b[0m\n",
      "\u001b[0m\n"
     ]
    },
    {
     "name": "stdin",
     "output_type": "stream",
     "text": [
      "ipdb>  \n"
     ]
    },
    {
     "name": "stdout",
     "output_type": "stream",
     "text": [
      "> \u001b[0;32m/Users/fairliereese/Documents/programming/mortazavi_lab/bin/cerberus/cerberus/cerberus.py\u001b[0m(483)\u001b[0;36magg_2_ends\u001b[0;34m()\u001b[0m\n",
      "\u001b[0;32m    481 \u001b[0;31m        \u001b[0;31m# situation 3: the ends overlapped, but the gene ids didn't match\u001b[0m\u001b[0;34m\u001b[0m\u001b[0;34m\u001b[0m\u001b[0;34m\u001b[0m\u001b[0m\n",
      "\u001b[0m\u001b[0;32m    482 \u001b[0;31m        temp = temp_joined.loc[(temp_joined.gene_id!=temp_joined.gene_id_new)&\\\n",
      "\u001b[0m\u001b[0;32m--> 483 \u001b[0;31m                               (temp_joined.gene_id_new!='-1')].copy(deep=True)\n",
      "\u001b[0m\u001b[0;32m    484 \u001b[0;31m        \u001b[0;31m# pdb.set_trace()\u001b[0m\u001b[0;34m\u001b[0m\u001b[0;34m\u001b[0m\u001b[0;34m\u001b[0m\u001b[0m\n",
      "\u001b[0m\u001b[0;32m    485 \u001b[0;31m        \u001b[0mtemp\u001b[0m\u001b[0;34m.\u001b[0m\u001b[0mdrop\u001b[0m\u001b[0;34m(\u001b[0m\u001b[0mdrop_cols\u001b[0m\u001b[0;34m,\u001b[0m \u001b[0maxis\u001b[0m\u001b[0;34m=\u001b[0m\u001b[0;36m1\u001b[0m\u001b[0;34m,\u001b[0m \u001b[0minplace\u001b[0m\u001b[0;34m=\u001b[0m\u001b[0;32mTrue\u001b[0m\u001b[0;34m)\u001b[0m\u001b[0;34m\u001b[0m\u001b[0;34m\u001b[0m\u001b[0m\n",
      "\u001b[0m\n"
     ]
    },
    {
     "name": "stdin",
     "output_type": "stream",
     "text": [
      "ipdb>  n\n"
     ]
    },
    {
     "name": "stdout",
     "output_type": "stream",
     "text": [
      "> \u001b[0;32m/Users/fairliereese/Documents/programming/mortazavi_lab/bin/cerberus/cerberus/cerberus.py\u001b[0m(485)\u001b[0;36magg_2_ends\u001b[0;34m()\u001b[0m\n",
      "\u001b[0;32m    483 \u001b[0;31m                               (temp_joined.gene_id_new!='-1')].copy(deep=True)\n",
      "\u001b[0m\u001b[0;32m    484 \u001b[0;31m        \u001b[0;31m# pdb.set_trace()\u001b[0m\u001b[0;34m\u001b[0m\u001b[0;34m\u001b[0m\u001b[0;34m\u001b[0m\u001b[0m\n",
      "\u001b[0m\u001b[0;32m--> 485 \u001b[0;31m        \u001b[0mtemp\u001b[0m\u001b[0;34m.\u001b[0m\u001b[0mdrop\u001b[0m\u001b[0;34m(\u001b[0m\u001b[0mdrop_cols\u001b[0m\u001b[0;34m,\u001b[0m \u001b[0maxis\u001b[0m\u001b[0;34m=\u001b[0m\u001b[0;36m1\u001b[0m\u001b[0;34m,\u001b[0m \u001b[0minplace\u001b[0m\u001b[0;34m=\u001b[0m\u001b[0;32mTrue\u001b[0m\u001b[0;34m)\u001b[0m\u001b[0;34m\u001b[0m\u001b[0;34m\u001b[0m\u001b[0m\n",
      "\u001b[0m\u001b[0;32m    486 \u001b[0;31m        \u001b[0mtemp\u001b[0m\u001b[0;34m.\u001b[0m\u001b[0mrename\u001b[0m\u001b[0;34m(\u001b[0m\u001b[0mm\u001b[0m\u001b[0;34m,\u001b[0m \u001b[0maxis\u001b[0m\u001b[0;34m=\u001b[0m\u001b[0;36m1\u001b[0m\u001b[0;34m,\u001b[0m \u001b[0minplace\u001b[0m\u001b[0;34m=\u001b[0m\u001b[0;32mTrue\u001b[0m\u001b[0;34m)\u001b[0m\u001b[0;34m\u001b[0m\u001b[0;34m\u001b[0m\u001b[0m\n",
      "\u001b[0m\u001b[0;32m    487 \u001b[0;31m        \u001b[0mnew_df\u001b[0m \u001b[0;34m=\u001b[0m \u001b[0mpd\u001b[0m\u001b[0;34m.\u001b[0m\u001b[0mconcat\u001b[0m\u001b[0;34m(\u001b[0m\u001b[0;34m[\u001b[0m\u001b[0mnew_df\u001b[0m\u001b[0;34m,\u001b[0m \u001b[0mtemp\u001b[0m\u001b[0;34m]\u001b[0m\u001b[0;34m)\u001b[0m\u001b[0;34m\u001b[0m\u001b[0;34m\u001b[0m\u001b[0m\n",
      "\u001b[0m\n"
     ]
    },
    {
     "name": "stdin",
     "output_type": "stream",
     "text": [
      "ipdb>  n\n"
     ]
    },
    {
     "name": "stdout",
     "output_type": "stream",
     "text": [
      "> \u001b[0;32m/Users/fairliereese/Documents/programming/mortazavi_lab/bin/cerberus/cerberus/cerberus.py\u001b[0m(486)\u001b[0;36magg_2_ends\u001b[0;34m()\u001b[0m\n",
      "\u001b[0;32m    484 \u001b[0;31m        \u001b[0;31m# pdb.set_trace()\u001b[0m\u001b[0;34m\u001b[0m\u001b[0;34m\u001b[0m\u001b[0;34m\u001b[0m\u001b[0m\n",
      "\u001b[0m\u001b[0;32m    485 \u001b[0;31m        \u001b[0mtemp\u001b[0m\u001b[0;34m.\u001b[0m\u001b[0mdrop\u001b[0m\u001b[0;34m(\u001b[0m\u001b[0mdrop_cols\u001b[0m\u001b[0;34m,\u001b[0m \u001b[0maxis\u001b[0m\u001b[0;34m=\u001b[0m\u001b[0;36m1\u001b[0m\u001b[0;34m,\u001b[0m \u001b[0minplace\u001b[0m\u001b[0;34m=\u001b[0m\u001b[0;32mTrue\u001b[0m\u001b[0;34m)\u001b[0m\u001b[0;34m\u001b[0m\u001b[0;34m\u001b[0m\u001b[0m\n",
      "\u001b[0m\u001b[0;32m--> 486 \u001b[0;31m        \u001b[0mtemp\u001b[0m\u001b[0;34m.\u001b[0m\u001b[0mrename\u001b[0m\u001b[0;34m(\u001b[0m\u001b[0mm\u001b[0m\u001b[0;34m,\u001b[0m \u001b[0maxis\u001b[0m\u001b[0;34m=\u001b[0m\u001b[0;36m1\u001b[0m\u001b[0;34m,\u001b[0m \u001b[0minplace\u001b[0m\u001b[0;34m=\u001b[0m\u001b[0;32mTrue\u001b[0m\u001b[0;34m)\u001b[0m\u001b[0;34m\u001b[0m\u001b[0;34m\u001b[0m\u001b[0m\n",
      "\u001b[0m\u001b[0;32m    487 \u001b[0;31m        \u001b[0mnew_df\u001b[0m \u001b[0;34m=\u001b[0m \u001b[0mpd\u001b[0m\u001b[0;34m.\u001b[0m\u001b[0mconcat\u001b[0m\u001b[0;34m(\u001b[0m\u001b[0;34m[\u001b[0m\u001b[0mnew_df\u001b[0m\u001b[0;34m,\u001b[0m \u001b[0mtemp\u001b[0m\u001b[0;34m]\u001b[0m\u001b[0;34m)\u001b[0m\u001b[0;34m\u001b[0m\u001b[0;34m\u001b[0m\u001b[0m\n",
      "\u001b[0m\u001b[0;32m    488 \u001b[0;31m\u001b[0;34m\u001b[0m\u001b[0m\n",
      "\u001b[0m\n"
     ]
    },
    {
     "name": "stdin",
     "output_type": "stream",
     "text": [
      "ipdb>  nn\n"
     ]
    },
    {
     "name": "stdout",
     "output_type": "stream",
     "text": [
      "*** NameError: name 'nn' is not defined\n"
     ]
    }
   ],
   "source": [
    "test_agg_2_ends_1(print_dfs=True)"
   ]
  },
  {
   "cell_type": "markdown",
   "id": "fda3e212-2a3a-45ea-9eb9-877d2a5bee4d",
   "metadata": {},
   "source": [
    "## write h5 ref from input beds and ics tsv"
   ]
  },
  {
   "cell_type": "code",
   "execution_count": 70,
   "id": "c97c6fff-29c7-4e14-8d92-37ff668f732e",
   "metadata": {},
   "outputs": [
    {
     "data": {
      "text/html": [
       "<div>\n",
       "<style scoped>\n",
       "    .dataframe tbody tr th:only-of-type {\n",
       "        vertical-align: middle;\n",
       "    }\n",
       "\n",
       "    .dataframe tbody tr th {\n",
       "        vertical-align: top;\n",
       "    }\n",
       "\n",
       "    .dataframe thead th {\n",
       "        text-align: right;\n",
       "    }\n",
       "</style>\n",
       "<table border=\"1\" class=\"dataframe\">\n",
       "  <thead>\n",
       "    <tr style=\"text-align: right;\">\n",
       "      <th></th>\n",
       "      <th>Chromosome</th>\n",
       "      <th>Start</th>\n",
       "      <th>End</th>\n",
       "      <th>Strand</th>\n",
       "      <th>source</th>\n",
       "      <th>Name</th>\n",
       "    </tr>\n",
       "  </thead>\n",
       "  <tbody>\n",
       "    <tr>\n",
       "      <th>0</th>\n",
       "      <td>chr1</td>\n",
       "      <td>169804296</td>\n",
       "      <td>169804436</td>\n",
       "      <td>+</td>\n",
       "      <td>v40</td>\n",
       "      <td>ENSG00000000460_2</td>\n",
       "    </tr>\n",
       "    <tr>\n",
       "      <th>1</th>\n",
       "      <td>chr1</td>\n",
       "      <td>169807786</td>\n",
       "      <td>169807887</td>\n",
       "      <td>+</td>\n",
       "      <td>v40</td>\n",
       "      <td>ENSG00000000460_4</td>\n",
       "    </tr>\n",
       "    <tr>\n",
       "      <th>2</th>\n",
       "      <td>chr1</td>\n",
       "      <td>169821668</td>\n",
       "      <td>169821769</td>\n",
       "      <td>+</td>\n",
       "      <td>v40</td>\n",
       "      <td>ENSG00000000460_5</td>\n",
       "    </tr>\n",
       "    <tr>\n",
       "      <th>3</th>\n",
       "      <td>chr1</td>\n",
       "      <td>169852986</td>\n",
       "      <td>169853135</td>\n",
       "      <td>+</td>\n",
       "      <td>v40</td>\n",
       "      <td>ENSG00000000460_3</td>\n",
       "    </tr>\n",
       "    <tr>\n",
       "      <th>4</th>\n",
       "      <td>chr1</td>\n",
       "      <td>169854029</td>\n",
       "      <td>169854130</td>\n",
       "      <td>+</td>\n",
       "      <td>v40</td>\n",
       "      <td>ENSG00000000460_1</td>\n",
       "    </tr>\n",
       "  </tbody>\n",
       "</table>\n",
       "</div>"
      ],
      "text/plain": [
       "  Chromosome      Start        End Strand source               Name\n",
       "0       chr1  169804296  169804436      +    v40  ENSG00000000460_2\n",
       "1       chr1  169807786  169807887      +    v40  ENSG00000000460_4\n",
       "2       chr1  169821668  169821769      +    v40  ENSG00000000460_5\n",
       "3       chr1  169852986  169853135      +    v40  ENSG00000000460_3\n",
       "4       chr1  169854029  169854130      +    v40  ENSG00000000460_1"
      ]
     },
     "execution_count": 70,
     "metadata": {},
     "output_type": "execute_result"
    }
   ],
   "source": [
    "ic = '/Users/fairliereese/Documents/programming/mortazavi_lab/data/rnawg/lr_bulk/cerberus/temp/talon_ic.tsv'\n",
    "tes = '/Users/fairliereese/Documents/programming/mortazavi_lab/data/rnawg/lr_bulk/cerberus/test_tes.bed'\n",
    "tss = '/Users/fairliereese/Documents/programming/mortazavi_lab/data/rnawg/lr_bulk/cerberus/test_tss.bed'\n",
    "tss_map = '/Users/fairliereese/Documents/programming/mortazavi_lab/data/rnawg/lr_bulk/cerberus/test_tes_source_map.bed'\n",
    "tes_map = '/Users/fairliereese/Documents/programming/mortazavi_lab/data/rnawg/lr_bulk/cerberus/test_tss_source_map.bed'\n",
    "\n",
    "# df = read_ic_ref(ic)\n",
    "# df.head()\n",
    "\n",
    "write_reference(tss, tes, ic, 'test.h5')\n",
    "\n",
    "# df = read_cerberus_ends(tss, mode='tss')\n",
    "# df\n",
    "\n",
    "df = read_cerberus_source_map(tss_map)\n",
    "df.head()"
   ]
  },
  {
   "cell_type": "code",
   "execution_count": 32,
   "id": "594c1015-1b51-4152-8799-84c5fe5b2848",
   "metadata": {},
   "outputs": [],
   "source": [
    "import pandas as pd\n",
    "import numpy as np\n",
    "\n",
    "df = pd.DataFrame()\n",
    "n = 5\n",
    "test_1 = [np.nan for i in range(n)]\n",
    "test_1[-1] = 'b'\n",
    "df['test_1'] = test_1\n",
    "df['test_1'] = df.test_1.astype('category')\n",
    "df['test_2'] = ['a' for i in range(n)]\n",
    "\n",
    "o = 'test.h5'\n",
    "df.to_hdf(o, 'test', mode='w', format='table')\n",
    "\n",
    "df = pd.read_hdf(o, key='test')"
   ]
  },
  {
   "cell_type": "code",
   "execution_count": 33,
   "id": "25ece305-9dda-4172-80b6-0ebaa213a899",
   "metadata": {},
   "outputs": [
    {
     "data": {
      "text/html": [
       "<div>\n",
       "<style scoped>\n",
       "    .dataframe tbody tr th:only-of-type {\n",
       "        vertical-align: middle;\n",
       "    }\n",
       "\n",
       "    .dataframe tbody tr th {\n",
       "        vertical-align: top;\n",
       "    }\n",
       "\n",
       "    .dataframe thead th {\n",
       "        text-align: right;\n",
       "    }\n",
       "</style>\n",
       "<table border=\"1\" class=\"dataframe\">\n",
       "  <thead>\n",
       "    <tr style=\"text-align: right;\">\n",
       "      <th></th>\n",
       "      <th>test_1</th>\n",
       "      <th>test_2</th>\n",
       "    </tr>\n",
       "  </thead>\n",
       "  <tbody>\n",
       "    <tr>\n",
       "      <th>0</th>\n",
       "      <td>NaN</td>\n",
       "      <td>a</td>\n",
       "    </tr>\n",
       "    <tr>\n",
       "      <th>1</th>\n",
       "      <td>NaN</td>\n",
       "      <td>a</td>\n",
       "    </tr>\n",
       "    <tr>\n",
       "      <th>2</th>\n",
       "      <td>NaN</td>\n",
       "      <td>a</td>\n",
       "    </tr>\n",
       "    <tr>\n",
       "      <th>3</th>\n",
       "      <td>NaN</td>\n",
       "      <td>a</td>\n",
       "    </tr>\n",
       "    <tr>\n",
       "      <th>4</th>\n",
       "      <td>b</td>\n",
       "      <td>a</td>\n",
       "    </tr>\n",
       "  </tbody>\n",
       "</table>\n",
       "</div>"
      ],
      "text/plain": [
       "  test_1 test_2\n",
       "0    NaN      a\n",
       "1    NaN      a\n",
       "2    NaN      a\n",
       "3    NaN      a\n",
       "4      b      a"
      ]
     },
     "execution_count": 33,
     "metadata": {},
     "output_type": "execute_result"
    }
   ],
   "source": [
    "df.head()"
   ]
  },
  {
   "cell_type": "code",
   "execution_count": null,
   "id": "fedc5e8b-fb8b-44f5-978e-0ea17925c007",
   "metadata": {},
   "outputs": [],
   "source": []
  }
 ],
 "metadata": {
  "kernelspec": {
   "display_name": "Python 3",
   "language": "python",
   "name": "python3"
  },
  "language_info": {
   "codemirror_mode": {
    "name": "ipython",
    "version": 3
   },
   "file_extension": ".py",
   "mimetype": "text/x-python",
   "name": "python",
   "nbconvert_exporter": "python",
   "pygments_lexer": "ipython3",
   "version": "3.7.4"
  }
 },
 "nbformat": 4,
 "nbformat_minor": 5
}
