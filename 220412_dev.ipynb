{
 "cells": [
  {
   "cell_type": "code",
   "execution_count": 1,
   "id": "7e4387d2-7683-4c42-93b4-5776e7107cac",
   "metadata": {},
   "outputs": [],
   "source": [
    "import pyranges as pr\n",
    "import pandas as pd\n",
    "import numpy as np\n",
    "from cerberus.cerberus import *"
   ]
  },
  {
   "cell_type": "markdown",
   "id": "8a830a56-85b7-48bd-ac02-102f46c48af2",
   "metadata": {},
   "source": [
    "## end aggregation config file parsing"
   ]
  },
  {
   "cell_type": "code",
   "execution_count": 41,
   "id": "6afe474e-fd21-4f1f-8f27-063f65061292",
   "metadata": {},
   "outputs": [],
   "source": [
    "def parse_agg_ends_config(fname):\n",
    "    \"\"\"\n",
    "    Parse a config file for end aggregation\n",
    "    \n",
    "    Parameters:\n",
    "        fname (str): Path to the tss / tes config file\n",
    "    \n",
    "    Returns:\n",
    "        beds (list of str): List of fnames to beds\n",
    "        add_ends (list of bool): List of whether or not\n",
    "            to add new ends from each bed\n",
    "        sources (list of str): Source names for each bed\n",
    "    \"\"\"\n",
    "    df = pd.read_csv(fname, header=None, sep=',')\n",
    "    df.columns = ['fname', 'add_ends', 'source']\n",
    "    \n",
    "    beds = df.fname.tolist()\n",
    "    add_ends = df.add_ends.tolist()\n",
    "    sources = df.source.tolist()\n",
    "    \n",
    "    return beds, add_ends, sources\n",
    "    "
   ]
  },
  {
   "cell_type": "code",
   "execution_count": 43,
   "id": "83105a73-e204-4ebb-a5c6-cd1ef6a1ae75",
   "metadata": {},
   "outputs": [
    {
     "name": "stdout",
     "output_type": "stream",
     "text": [
      "['/Users/fairliereese/Documents/programming/mortazavi_lab/data/rnawg/lr_bulk/cerberus/v39_tss.bed', '/Users/fairliereese/Documents/programming/mortazavi_lab/data/rnawg/lr_bulk/cerberus/v29_tss.bed', '/Users/fairliereese/Documents/programming/mortazavi_lab/data/rnawg/lr_bulk/cerberus/test_no_gid_no_strand.bed', '/Users/fairliereese/Documents/programming/mortazavi_lab/data/rnawg/lr_bulk/cerberus/talon_tss.bed']\n",
      "[True, True, False, True]\n",
      "['v39', 'v29', 'ccre', 'talon']\n"
     ]
    }
   ],
   "source": [
    "beds, add_ends, sources = parse_agg_ends_config(fname)\n",
    "print(beds)\n",
    "print(add_ends)\n",
    "print(sources)"
   ]
  },
  {
   "cell_type": "code",
   "execution_count": 37,
   "id": "b143dcfa-cc0c-4da5-a216-cb02ca03c023",
   "metadata": {},
   "outputs": [],
   "source": [
    "d = '/Users/fairliereese/Documents/programming/mortazavi_lab/data/rnawg/lr_bulk/cerberus/'\n",
    "v29_bed = '{}v29_tss.bed'.format(d)\n",
    "v39_bed = '{}v39_tss.bed'.format(d)\n",
    "talon_bed = '{}talon_tss.bed'.format(d)\n",
    "no_gid = '{}test_no_gid_no_strand.bed'.format(d)\n",
    "\n",
    "# beds = [v39_bed, v29_bed, talon_bed] \n",
    "# beds = [v29_bed, talon_bed, v39_bed] \n",
    "beds = [v39_bed, v29_bed, no_gid, talon_bed] \n",
    "sources = ['v39', 'v29', 'ccre', 'talon']\n",
    "add_ends = [True, True, False, True]\n",
    "\n",
    "df = pd.DataFrame()\n",
    "df['fname'] = beds\n",
    "df['add_ends'] = add_ends\n",
    "df['source'] = sources\n",
    "\n",
    "df.head()\n",
    "fname = '/Users/fairliereese/mortazavi_lab/data/rnawg/lr_bulk/cerberus/agg_tss_config.csv'\n",
    "df.to_csv(fname, sep=',', index=False, header=None)"
   ]
  },
  {
   "cell_type": "code",
   "execution_count": 35,
   "id": "79f19b07-b632-4fca-966c-6128ddffe065",
   "metadata": {},
   "outputs": [],
   "source": [
    "\n",
    "\n",
    "# mode = 'tss'\n",
    "# slack = 20\n",
    "\n",
    "\n",
    "\n",
    "# df = aggregate_ends(beds, sources, add_ends, slack, mode)\n",
    "\n",
    "# # fname = 'tests/files/Canx_1_tss.bed'\n",
    "# # df = read_bed(fname, mode='tss')\n",
    "\n",
    "# # fname = 'tests/files/Canx_ccre_pels.bed'\n",
    "# # # df = read_bed(fname, mode='tss')"
   ]
  }
 ],
 "metadata": {
  "kernelspec": {
   "display_name": "Python 3",
   "language": "python",
   "name": "python3"
  },
  "language_info": {
   "codemirror_mode": {
    "name": "ipython",
    "version": 3
   },
   "file_extension": ".py",
   "mimetype": "text/x-python",
   "name": "python",
   "nbconvert_exporter": "python",
   "pygments_lexer": "ipython3",
   "version": "3.7.4"
  }
 },
 "nbformat": 4,
 "nbformat_minor": 5
}
