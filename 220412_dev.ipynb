{
 "cells": [
  {
   "cell_type": "code",
   "execution_count": 4,
   "id": "7e4387d2-7683-4c42-93b4-5776e7107cac",
   "metadata": {},
   "outputs": [],
   "source": [
    "import pyranges as pr\n",
    "import pandas as pd\n",
    "from cerberus.cerberus import *"
   ]
  },
  {
   "cell_type": "code",
   "execution_count": 5,
   "id": "6ce57d9e-d288-4b76-b4e9-30dd2498734b",
   "metadata": {},
   "outputs": [],
   "source": [
    "gtf = 'tests/files/Canx.gtf' \n",
    "mode = 'tss'\n",
    "dist = 50\n",
    "slack = 50"
   ]
  },
  {
   "cell_type": "code",
   "execution_count": 6,
   "id": "366a969d-d90f-4efa-90e0-a553feed0bb2",
   "metadata": {},
   "outputs": [],
   "source": [
    "bed = get_ends_from_gtf(gtf, 'tss', dist, slack)"
   ]
  },
  {
   "cell_type": "markdown",
   "id": "053530cb-a377-4db4-9936-c561dd1ef617",
   "metadata": {},
   "source": [
    "## Getting ICs from GTF"
   ]
  },
  {
   "cell_type": "code",
   "execution_count": 22,
   "id": "2424d5b4-5c1f-4e88-84b1-b0552683cec5",
   "metadata": {},
   "outputs": [],
   "source": [
    "def get_ics_from_gtf(gtf):\n",
    "    \"\"\"\n",
    "    Get a file for each intron chain in a gtf and number them \n",
    "    based on tags indicating priority for each gene w/i the gtf \n",
    "    \n",
    "    Parameters:\n",
    "        gtf (str): Filename for input gtf\n",
    "\n",
    "    Returns:\n",
    "        ic (pandas DataFrame): \n",
    "    \"\"\"\n",
    "    \n",
    "    # get basic status and appris_principal tag for each transcript\n",
    "    t_df = get_transcript_ref(gtf)\n",
    "    t_df = t_df[['transcript_id', 'MANE_Select', 'basic_set', 'appris_principal']]\n",
    "\n",
    "    # get unique intron chains from gtf\n",
    "    df = pr.read_gtf(gtf)\n",
    "    df = get_ic(df)\n",
    "\n",
    "    # add basic annotation, appris principal number, and gene id\n",
    "    df = df.merge(t_df, on='transcript_id', how='left')\n",
    "\n",
    "    # add number for each unique intron chain\n",
    "    df = number_tss_ic_tes(df, mode='ic')\n",
    "\n",
    "    # make coords into tuple and perform additional\n",
    "    # formatting for this table\n",
    "    df['ic'] = df.ic.str.split('-')\n",
    "    df['ic'] = [tuple(c) for c in df.ic.tolist()]\n",
    "    ic = df.copy(deep=True)\n",
    "    ic.rename({'ic': 'Coordinates'},\n",
    "               axis=1, inplace=True)\n",
    "    ic['gene_id'] = ic.gene_id.str.split('.', n=1, expand=True)[0]\n",
    "    ic['Name'] = ic['gene_id']+'_'+ic.ic_num.astype(str)\n",
    "    cols = ['transcript_id', 'MANE_Select', 'basic_set', 'appris_principal',\n",
    "            'gene_id', 'ic_num']\n",
    "    ic.drop(cols, axis=1, inplace=True)\n",
    "    \n",
    "    return ic"
   ]
  },
  {
   "cell_type": "code",
   "execution_count": 23,
   "id": "013a4a59-3d18-48b5-b70a-5dc3f244f351",
   "metadata": {},
   "outputs": [],
   "source": [
    "df = get_ics_from_gtf(gtf)"
   ]
  },
  {
   "cell_type": "code",
   "execution_count": 24,
   "id": "64a3afed-7ef1-4b28-887c-be4a787400cd",
   "metadata": {},
   "outputs": [
    {
     "data": {
      "text/html": [
       "<div>\n",
       "<style scoped>\n",
       "    .dataframe tbody tr th:only-of-type {\n",
       "        vertical-align: middle;\n",
       "    }\n",
       "\n",
       "    .dataframe tbody tr th {\n",
       "        vertical-align: top;\n",
       "    }\n",
       "\n",
       "    .dataframe thead th {\n",
       "        text-align: right;\n",
       "    }\n",
       "</style>\n",
       "<table border=\"1\" class=\"dataframe\">\n",
       "  <thead>\n",
       "    <tr style=\"text-align: right;\">\n",
       "      <th></th>\n",
       "      <th>Chromosome</th>\n",
       "      <th>Strand</th>\n",
       "      <th>Coordinates</th>\n",
       "      <th>Name</th>\n",
       "    </tr>\n",
       "  </thead>\n",
       "  <tbody>\n",
       "    <tr>\n",
       "      <th>0</th>\n",
       "      <td>chr11</td>\n",
       "      <td>-</td>\n",
       "      <td>(50298116, 50297394)</td>\n",
       "      <td>ENSMUSG00000020368_4</td>\n",
       "    </tr>\n",
       "    <tr>\n",
       "      <th>1</th>\n",
       "      <td>chr11</td>\n",
       "      <td>-</td>\n",
       "      <td>(50299128, 50298236, 50298116, 50297394, 50297...</td>\n",
       "      <td>ENSMUSG00000020368_5</td>\n",
       "    </tr>\n",
       "    <tr>\n",
       "      <th>2</th>\n",
       "      <td>chr11</td>\n",
       "      <td>-</td>\n",
       "      <td>(50300897, 50299344)</td>\n",
       "      <td>ENSMUSG00000020368_2</td>\n",
       "    </tr>\n",
       "    <tr>\n",
       "      <th>3</th>\n",
       "      <td>chr11</td>\n",
       "      <td>-</td>\n",
       "      <td>(50325492, 50311780, 50311603, 50310867, 50310...</td>\n",
       "      <td>ENSMUSG00000020368_1</td>\n",
       "    </tr>\n",
       "    <tr>\n",
       "      <th>4</th>\n",
       "      <td>chr11</td>\n",
       "      <td>-</td>\n",
       "      <td>(50325492, 50311784, 50311603, 50310867, 50310...</td>\n",
       "      <td>ENSMUSG00000020368_3</td>\n",
       "    </tr>\n",
       "  </tbody>\n",
       "</table>\n",
       "</div>"
      ],
      "text/plain": [
       "  Chromosome Strand                                        Coordinates  \\\n",
       "0      chr11      -                               (50298116, 50297394)   \n",
       "1      chr11      -  (50299128, 50298236, 50298116, 50297394, 50297...   \n",
       "2      chr11      -                               (50300897, 50299344)   \n",
       "3      chr11      -  (50325492, 50311780, 50311603, 50310867, 50310...   \n",
       "4      chr11      -  (50325492, 50311784, 50311603, 50310867, 50310...   \n",
       "\n",
       "                   Name  \n",
       "0  ENSMUSG00000020368_4  \n",
       "1  ENSMUSG00000020368_5  \n",
       "2  ENSMUSG00000020368_2  \n",
       "3  ENSMUSG00000020368_1  \n",
       "4  ENSMUSG00000020368_3  "
      ]
     },
     "execution_count": 24,
     "metadata": {},
     "output_type": "execute_result"
    }
   ],
   "source": [
    "df"
   ]
  },
  {
   "cell_type": "code",
   "execution_count": null,
   "id": "1f659432-3b48-417b-8ea7-92bba4b87acb",
   "metadata": {},
   "outputs": [],
   "source": []
  }
 ],
 "metadata": {
  "kernelspec": {
   "display_name": "Python 3",
   "language": "python",
   "name": "python3"
  },
  "language_info": {
   "codemirror_mode": {
    "name": "ipython",
    "version": 3
   },
   "file_extension": ".py",
   "mimetype": "text/x-python",
   "name": "python",
   "nbconvert_exporter": "python",
   "pygments_lexer": "ipython3",
   "version": "3.7.4"
  }
 },
 "nbformat": 4,
 "nbformat_minor": 5
}
