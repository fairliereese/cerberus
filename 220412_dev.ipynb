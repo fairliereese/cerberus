{
 "cells": [
  {
   "cell_type": "code",
   "execution_count": 1,
   "id": "7e4387d2-7683-4c42-93b4-5776e7107cac",
   "metadata": {},
   "outputs": [],
   "source": [
    "import pyranges as pr\n",
    "import pandas as pd\n",
    "import numpy as np\n",
    "import h5py \n",
    "import os\n",
    "\n",
    "from cerberus.cerberus import *\n",
    "from cerberus.main import *"
   ]
  },
  {
   "cell_type": "markdown",
   "id": "fda3e212-2a3a-45ea-9eb9-877d2a5bee4d",
   "metadata": {},
   "source": [
    "## write h5 ref from input beds and ics tsv"
   ]
  },
  {
   "cell_type": "code",
   "execution_count": 2,
   "id": "c97c6fff-29c7-4e14-8d92-37ff668f732e",
   "metadata": {},
   "outputs": [],
   "source": [
    "ic = '/Users/fairliereese/Documents/programming/mortazavi_lab/data/rnawg/lr_bulk/cerberus/temp/talon_ic.tsv'\n",
    "tes = '/Users/fairliereese/Documents/programming/mortazavi_lab/data/rnawg/lr_bulk/cerberus/test_tes.bed'\n",
    "tss = '/Users/fairliereese/Documents/programming/mortazavi_lab/data/rnawg/lr_bulk/cerberus/test_tss.bed'\n",
    "tss_map = '/Users/fairliereese/Documents/programming/mortazavi_lab/data/rnawg/lr_bulk/cerberus/test_tes_source_map.bed'\n",
    "tes_map = '/Users/fairliereese/Documents/programming/mortazavi_lab/data/rnawg/lr_bulk/cerberus/test_tss_source_map.bed'\n",
    "\n",
    "# df = read_ic_ref(ic)\n",
    "# df.head()\n",
    "\n",
    "write_reference(tss, tes, ic, 'test.h5')\n",
    "\n",
    "# df = read_cerberus_ends(tss, mode='tss')\n",
    "# df\n",
    "\n",
    "df = read_cerberus_source_map(tss_map)\n",
    "df.head()"
   ]
  }
 ],
 "metadata": {
  "kernelspec": {
   "display_name": "Python 3",
   "language": "python",
   "name": "python3"
  },
  "language_info": {
   "codemirror_mode": {
    "name": "ipython",
    "version": 3
   },
   "file_extension": ".py",
   "mimetype": "text/x-python",
   "name": "python",
   "nbconvert_exporter": "python",
   "pygments_lexer": "ipython3",
   "version": "3.7.4"
  }
 },
 "nbformat": 4,
 "nbformat_minor": 5
}
