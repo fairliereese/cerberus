{
 "cells": [
  {
   "cell_type": "code",
   "execution_count": 1,
   "id": "7e4387d2-7683-4c42-93b4-5776e7107cac",
   "metadata": {},
   "outputs": [],
   "source": [
    "import pyranges as pr\n",
    "import pandas as pd\n",
    "from cerberus.cerberus import *"
   ]
  },
  {
   "cell_type": "code",
   "execution_count": 4,
   "id": "2310cea3-c979-4a88-a83d-e9c6f609b86c",
   "metadata": {},
   "outputs": [],
   "source": [
    "h5 = 'test.h5'\n",
    "h5_to_tsv(h5, opref='beeeep')"
   ]
  },
  {
   "cell_type": "markdown",
   "id": "23805e8c-6924-4d05-930e-31979279ab05",
   "metadata": {},
   "source": [
    "## aggregate intron chains"
   ]
  },
  {
   "cell_type": "code",
   "execution_count": 5,
   "id": "6496e6c3-25ab-4017-acbd-f110210a19b4",
   "metadata": {},
   "outputs": [],
   "source": [
    "# def aggregate_ics(ics):\n",
    "#     \"\"\"\n",
    "#     Aggregate intron chains from multiple gtf_to_ics calls into one\n",
    "#     ics tsv table. Preferentially number intron chains based on their\n",
    "#     numbers computed in the order that the ic files are passed in.\n",
    "    \n",
    "#     Parameters:\n",
    "#         ics (list of str): List of ic.tsv files in priority ordering to \n",
    "#             number each unique ic\n",
    "    \n",
    "#     Returns:\n",
    "#         df (pandas DataFrame): Dataframe detailing the chromosome, strand, \n",
    "#             coordinates, and new names computed for each unique intron\n",
    "#             chain\n",
    "#     \"\"\"\n",
    "#     df = pd.DataFrame()\n",
    "#     for ic in ics:\n",
    "#         temp = read_ic_ref(ic)\n",
    "\n",
    "#         # start with priority 1 \n",
    "#         if len(df.index) == 0:\n",
    "#             df = temp.copy(deep=True)\n",
    "#         else:\n",
    "\n",
    "#             # if we have more than 1 set of ics, merge on chrom, strand, \n",
    "#             # ic coords, and gene id\n",
    "#             print(df.columns)\n",
    "#             df = df.merge(temp,\n",
    "#                           on=['Chromosome', 'Strand', 'Coordinates', 'gene_id'],\n",
    "#                           how='outer', suffixes=('', '_new'))\n",
    "\n",
    "#             # renumber intron chains that are new to the set\n",
    "#             n = int(df.ic.max())+1\n",
    "#             new_ics = df.loc[df.ic.isnull()&~df.ic_new.isnull()].index\n",
    "#             nums = [i for i in range(n, n+len(new_ics))]\n",
    "#             df.loc[new_ics, 'ic'] = nums\n",
    "\n",
    "#             # drop irrelevant columns\n",
    "#             cols = ['Name_new', 'ic_new']\n",
    "#             df.drop(cols, axis=1, inplace=True)\n",
    "\n",
    "#     # reformat ic name\n",
    "#     df['Name'] = df.gene_id+'_'+df.ic.astype(int).astype(str)\n",
    "\n",
    "#     # other reformatting\n",
    "#     cols = ['Chromosome', 'Strand', 'Coordinates', 'Name']\n",
    "#     df = df[cols]\n",
    "    \n",
    "#     return df\n",
    "\n"
   ]
  },
  {
   "cell_type": "code",
   "execution_count": 6,
   "id": "e7281edb-f2fa-4939-8975-318a634582b1",
   "metadata": {},
   "outputs": [
    {
     "name": "stdout",
     "output_type": "stream",
     "text": [
      "Index(['Chromosome', 'Strand', 'Coordinates', 'Name', 'gene_id', 'ic'], dtype='object')\n"
     ]
    }
   ],
   "source": [
    "ics = ['tests/files/Canx_1_ics.tsv', 'tests/files/Canx_2_ics.tsv']\n",
    "df = aggregate_ics(ics)\n"
   ]
  },
  {
   "cell_type": "code",
   "execution_count": null,
   "id": "ce9318f1-5215-4854-8084-fbcb095e30be",
   "metadata": {},
   "outputs": [],
   "source": []
  }
 ],
 "metadata": {
  "kernelspec": {
   "display_name": "Python 3",
   "language": "python",
   "name": "python3"
  },
  "language_info": {
   "codemirror_mode": {
    "name": "ipython",
    "version": 3
   },
   "file_extension": ".py",
   "mimetype": "text/x-python",
   "name": "python",
   "nbconvert_exporter": "python",
   "pygments_lexer": "ipython3",
   "version": "3.7.4"
  }
 },
 "nbformat": 4,
 "nbformat_minor": 5
}
